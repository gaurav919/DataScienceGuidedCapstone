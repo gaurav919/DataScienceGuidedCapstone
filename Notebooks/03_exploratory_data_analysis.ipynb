{
  "nbformat": 4,
  "nbformat_minor": 0,
  "metadata": {
    "kernelspec": {
      "display_name": "Python 3",
      "language": "python",
      "name": "python3"
    },
    "language_info": {
      "codemirror_mode": {
        "name": "ipython",
        "version": 3
      },
      "file_extension": ".py",
      "mimetype": "text/x-python",
      "name": "python",
      "nbconvert_exporter": "python",
      "pygments_lexer": "ipython3",
      "version": "3.7.9"
    },
    "toc": {
      "base_numbering": 1,
      "nav_menu": {},
      "number_sections": true,
      "sideBar": true,
      "skip_h1_title": false,
      "title_cell": "Table of Contents",
      "title_sidebar": "Contents",
      "toc_cell": false,
      "toc_position": {},
      "toc_section_display": true,
      "toc_window_display": false
    },
    "varInspector": {
      "cols": {
        "lenName": 16,
        "lenType": 16,
        "lenVar": 40
      },
      "kernels_config": {
        "python": {
          "delete_cmd_postfix": "",
          "delete_cmd_prefix": "del ",
          "library": "var_list.py",
          "varRefreshCmd": "print(var_dic_list())"
        },
        "r": {
          "delete_cmd_postfix": ") ",
          "delete_cmd_prefix": "rm(",
          "library": "var_list.r",
          "varRefreshCmd": "cat(var_dic_list()) "
        }
      },
      "types_to_exclude": [
        "module",
        "function",
        "builtin_function_or_method",
        "instance",
        "_Feature"
      ],
      "window_display": false
    },
    "colab": {
      "name": "03_exploratory_data_analysis.ipynb",
      "provenance": [],
      "collapsed_sections": [
        "H1DV2ApYs5kD",
        "RgE-h4Izs5kE",
        "z0j-_rzws5kF",
        "EsWWd7G2s5kG",
        "eWDMiIEks5kG",
        "hCrbgp_Cs5kG",
        "97wQoUK6s5kH",
        "KW3UXeGNs5kH",
        "I-o528ads5kJ"
      ]
    }
  },
  "cells": [
    {
      "cell_type": "markdown",
      "metadata": {
        "id": "nvQ8dP4Hs5j8"
      },
      "source": [
        "# 3 Exploratory Data Analysis<a id='3_Exploratory_Data_Analysis'></a>"
      ]
    },
    {
      "cell_type": "code",
      "metadata": {
        "id": "_6zwIevtGa_J"
      },
      "source": [
        ""
      ],
      "execution_count": null,
      "outputs": []
    },
    {
      "cell_type": "markdown",
      "metadata": {
        "id": "Bh8aAC0os5j-"
      },
      "source": [
        "## 3.1 Contents<a id='3.1_Contents'></a>\n",
        "* [3 Exploratory Data Analysis](#3_Exploratory_Data_Analysis)\n",
        "  * [3.1 Contents](#3.1_Contents)\n",
        "  * [3.2 Introduction](#3.2_Introduction)\n",
        "  * [3.3 Imports](#3.3_Imports)\n",
        "  * [3.4 Load The Data](#3.4_Load_The_Data)\n",
        "    * [3.4.1 Ski data](#3.4.1_Ski_data)\n",
        "    * [3.4.2 State-wide summary data](#3.4.2_State-wide_summary_data)\n",
        "  * [3.5 Explore The Data](#3.5_Explore_The_Data)\n",
        "    * [3.5.1 Top States By Order Of Each Of The Summary Statistics](#3.5.1_Top_States_By_Order_Of_Each_Of_The_Summary_Statistics)\n",
        "      * [3.5.1.1 Total state area](#3.5.1.1_Total_state_area)\n",
        "      * [3.5.1.2 Total state population](#3.5.1.2_Total_state_population)\n",
        "      * [3.5.1.3 Resorts per state](#3.5.1.3_Resorts_per_state)\n",
        "      * [3.5.1.4 Total skiable area](#3.5.1.4_Total_skiable_area)\n",
        "      * [3.5.1.5 Total night skiing area](#3.5.1.5_Total_night_skiing_area)\n",
        "      * [3.5.1.6 Total days open](#3.5.1.6_Total_days_open)\n",
        "    * [3.5.2 Resort density](#3.5.2_Resort_density)\n",
        "      * [3.5.2.1 Top states by resort density](#3.5.2.1_Top_states_by_resort_density)\n",
        "    * [3.5.3 Visualizing High Dimensional Data](#3.5.3_Visualizing_High_Dimensional_Data)\n",
        "      * [3.5.3.1 Scale the data](#3.5.3.1_Scale_the_data)\n",
        "        * [3.5.3.1.1 Verifying the scaling](#3.5.3.1.1_Verifying_the_scaling)\n",
        "      * [3.5.3.2 Calculate the PCA transformation](#3.5.3.2_Calculate_the_PCA_transformation)\n",
        "      * [3.5.3.3 Average ticket price by state](#3.5.3.3_Average_ticket_price_by_state)\n",
        "      * [3.5.3.4 Adding average ticket price to scatter plot](#3.5.3.4_Adding_average_ticket_price_to_scatter_plot)\n",
        "    * [3.5.4 Conclusion On How To Handle State Label](#3.5.4_Conclusion_On_How_To_Handle_State_Label)\n",
        "    * [3.5.5 Ski Resort Numeric Data](#3.5.5_Ski_Resort_Numeric_Data)\n",
        "      * [3.5.5.1 Feature engineering](#3.5.5.1_Feature_engineering)\n",
        "      * [3.5.5.2 Feature correlation heatmap](#3.5.5.2_Feature_correlation_heatmap)\n",
        "      * [3.5.5.3 Scatterplots of numeric features against ticket price](#3.5.5.3_Scatterplots_of_numeric_features_against_ticket_price)\n",
        "  * [3.6 Summary](#3.6_Summary)\n"
      ]
    },
    {
      "cell_type": "markdown",
      "metadata": {
        "id": "J8o2aKL0s5j_"
      },
      "source": [
        "## 3.2 Introduction<a id='3.2_Introduction'></a>"
      ]
    },
    {
      "cell_type": "markdown",
      "metadata": {
        "id": "jYNGXusos5j_"
      },
      "source": [
        "At this point, you should have a firm idea of what your data science problem is and have the data you believe could help solve it. The business problem was a general one of modeling resort revenue. The data you started with contained some ticket price values, but with a number of missing values that led to several rows being dropped completely. You also had two kinds of ticket price. There were also some obvious issues with some of the other features in the data that, for example, led to one column being completely dropped, a data error corrected, and some other rows dropped. You also obtained some additional US state population and size data with which to augment the dataset, which also required some cleaning.\n",
        "\n",
        "The data science problem you subsequently identified is to predict the adult weekend ticket price for ski resorts."
      ]
    },
    {
      "cell_type": "markdown",
      "metadata": {
        "id": "5glVNfGZs5j_"
      },
      "source": [
        "## 3.3 Imports<a id='3.3_Imports'></a>"
      ]
    },
    {
      "cell_type": "code",
      "metadata": {
        "execution": {
          "iopub.execute_input": "2020-10-07T07:04:19.124917Z",
          "iopub.status.busy": "2020-10-07T07:04:19.124711Z",
          "iopub.status.idle": "2020-10-07T07:04:19.128523Z",
          "shell.execute_reply": "2020-10-07T07:04:19.128112Z",
          "shell.execute_reply.started": "2020-10-07T07:04:19.124888Z"
        },
        "id": "gr1z7sZes5kA"
      },
      "source": [
        "import pandas as pd\n",
        "import numpy as np\n",
        "import os\n",
        "import matplotlib.pyplot as plt\n",
        "import seaborn as sns\n",
        "from sklearn.decomposition import PCA\n",
        "from sklearn.preprocessing import scale\n",
        "from google.colab import files\n",
        "\n",
        "#from library.sb_utils import save_file"
      ],
      "execution_count": null,
      "outputs": []
    },
    {
      "cell_type": "markdown",
      "metadata": {
        "id": "C564WW17s5kA"
      },
      "source": [
        "## 3.4 Load The Data<a id='3.4_Load_The_Data'></a>"
      ]
    },
    {
      "cell_type": "markdown",
      "metadata": {
        "id": "YGeZJx4ws5kB"
      },
      "source": [
        "### 3.4.1 Ski data<a id='3.4.1_Ski_data'></a>"
      ]
    },
    {
      "cell_type": "code",
      "metadata": {
        "id": "sVdBvkI2s5kB"
      },
      "source": [
        "ski_data = pd.read_csv('ski_data_cleaned.csv')"
      ],
      "execution_count": null,
      "outputs": []
    },
    {
      "cell_type": "code",
      "metadata": {
        "colab": {
          "base_uri": "https://localhost:8080/"
        },
        "id": "uZLFRnpZs5kC",
        "outputId": "0b9208b3-a9f2-47ca-cf56-db186c7dba94"
      },
      "source": [
        "ski_data.info()"
      ],
      "execution_count": null,
      "outputs": [
        {
          "output_type": "stream",
          "text": [
            "<class 'pandas.core.frame.DataFrame'>\n",
            "RangeIndex: 277 entries, 0 to 276\n",
            "Data columns (total 26 columns):\n",
            " #   Column             Non-Null Count  Dtype  \n",
            "---  ------             --------------  -----  \n",
            " 0   Unnamed: 0         277 non-null    int64  \n",
            " 1   Name               277 non-null    object \n",
            " 2   Region             277 non-null    object \n",
            " 3   state              277 non-null    object \n",
            " 4   summit_elev        277 non-null    int64  \n",
            " 5   vertical_drop      277 non-null    int64  \n",
            " 6   base_elev          277 non-null    int64  \n",
            " 7   trams              277 non-null    int64  \n",
            " 8   fastSixes          277 non-null    int64  \n",
            " 9   fastQuads          277 non-null    int64  \n",
            " 10  quad               277 non-null    int64  \n",
            " 11  triple             277 non-null    int64  \n",
            " 12  double             277 non-null    int64  \n",
            " 13  surface            277 non-null    int64  \n",
            " 14  total_chairs       277 non-null    int64  \n",
            " 15  Runs               274 non-null    float64\n",
            " 16  TerrainParks       233 non-null    float64\n",
            " 17  LongestRun_mi      272 non-null    float64\n",
            " 18  SkiableTerrain_ac  275 non-null    float64\n",
            " 19  Snow Making_ac     240 non-null    float64\n",
            " 20  daysOpenLastYear   233 non-null    float64\n",
            " 21  yearsOpen          277 non-null    float64\n",
            " 22  averageSnowfall    268 non-null    float64\n",
            " 23  AdultWeekend       277 non-null    float64\n",
            " 24  projectedDaysOpen  236 non-null    float64\n",
            " 25  NightSkiing_ac     163 non-null    float64\n",
            "dtypes: float64(11), int64(12), object(3)\n",
            "memory usage: 56.4+ KB\n"
          ],
          "name": "stdout"
        }
      ]
    },
    {
      "cell_type": "code",
      "metadata": {
        "colab": {
          "base_uri": "https://localhost:8080/",
          "height": 343
        },
        "id": "nvOfGql0s5kC",
        "outputId": "33b25de2-ed98-4223-c721-95fe6ec3d3bc"
      },
      "source": [
        "ski_data.head()\n"
      ],
      "execution_count": null,
      "outputs": [
        {
          "output_type": "execute_result",
          "data": {
            "text/html": [
              "<div>\n",
              "<style scoped>\n",
              "    .dataframe tbody tr th:only-of-type {\n",
              "        vertical-align: middle;\n",
              "    }\n",
              "\n",
              "    .dataframe tbody tr th {\n",
              "        vertical-align: top;\n",
              "    }\n",
              "\n",
              "    .dataframe thead th {\n",
              "        text-align: right;\n",
              "    }\n",
              "</style>\n",
              "<table border=\"1\" class=\"dataframe\">\n",
              "  <thead>\n",
              "    <tr style=\"text-align: right;\">\n",
              "      <th></th>\n",
              "      <th>Unnamed: 0</th>\n",
              "      <th>Name</th>\n",
              "      <th>Region</th>\n",
              "      <th>state</th>\n",
              "      <th>summit_elev</th>\n",
              "      <th>vertical_drop</th>\n",
              "      <th>base_elev</th>\n",
              "      <th>trams</th>\n",
              "      <th>fastSixes</th>\n",
              "      <th>fastQuads</th>\n",
              "      <th>quad</th>\n",
              "      <th>triple</th>\n",
              "      <th>double</th>\n",
              "      <th>surface</th>\n",
              "      <th>total_chairs</th>\n",
              "      <th>Runs</th>\n",
              "      <th>TerrainParks</th>\n",
              "      <th>LongestRun_mi</th>\n",
              "      <th>SkiableTerrain_ac</th>\n",
              "      <th>Snow Making_ac</th>\n",
              "      <th>daysOpenLastYear</th>\n",
              "      <th>yearsOpen</th>\n",
              "      <th>averageSnowfall</th>\n",
              "      <th>AdultWeekend</th>\n",
              "      <th>projectedDaysOpen</th>\n",
              "      <th>NightSkiing_ac</th>\n",
              "    </tr>\n",
              "  </thead>\n",
              "  <tbody>\n",
              "    <tr>\n",
              "      <th>0</th>\n",
              "      <td>0</td>\n",
              "      <td>Alyeska Resort</td>\n",
              "      <td>Alaska</td>\n",
              "      <td>Alaska</td>\n",
              "      <td>3939</td>\n",
              "      <td>2500</td>\n",
              "      <td>250</td>\n",
              "      <td>1</td>\n",
              "      <td>0</td>\n",
              "      <td>2</td>\n",
              "      <td>2</td>\n",
              "      <td>0</td>\n",
              "      <td>0</td>\n",
              "      <td>2</td>\n",
              "      <td>7</td>\n",
              "      <td>76.0</td>\n",
              "      <td>2.0</td>\n",
              "      <td>1.0</td>\n",
              "      <td>1610.0</td>\n",
              "      <td>113.0</td>\n",
              "      <td>150.0</td>\n",
              "      <td>60.0</td>\n",
              "      <td>669.0</td>\n",
              "      <td>85.0</td>\n",
              "      <td>150.0</td>\n",
              "      <td>550.0</td>\n",
              "    </tr>\n",
              "    <tr>\n",
              "      <th>1</th>\n",
              "      <td>1</td>\n",
              "      <td>Eaglecrest Ski Area</td>\n",
              "      <td>Alaska</td>\n",
              "      <td>Alaska</td>\n",
              "      <td>2600</td>\n",
              "      <td>1540</td>\n",
              "      <td>1200</td>\n",
              "      <td>0</td>\n",
              "      <td>0</td>\n",
              "      <td>0</td>\n",
              "      <td>0</td>\n",
              "      <td>0</td>\n",
              "      <td>4</td>\n",
              "      <td>0</td>\n",
              "      <td>4</td>\n",
              "      <td>36.0</td>\n",
              "      <td>1.0</td>\n",
              "      <td>2.0</td>\n",
              "      <td>640.0</td>\n",
              "      <td>60.0</td>\n",
              "      <td>45.0</td>\n",
              "      <td>44.0</td>\n",
              "      <td>350.0</td>\n",
              "      <td>53.0</td>\n",
              "      <td>90.0</td>\n",
              "      <td>NaN</td>\n",
              "    </tr>\n",
              "    <tr>\n",
              "      <th>2</th>\n",
              "      <td>2</td>\n",
              "      <td>Hilltop Ski Area</td>\n",
              "      <td>Alaska</td>\n",
              "      <td>Alaska</td>\n",
              "      <td>2090</td>\n",
              "      <td>294</td>\n",
              "      <td>1796</td>\n",
              "      <td>0</td>\n",
              "      <td>0</td>\n",
              "      <td>0</td>\n",
              "      <td>0</td>\n",
              "      <td>1</td>\n",
              "      <td>0</td>\n",
              "      <td>2</td>\n",
              "      <td>3</td>\n",
              "      <td>13.0</td>\n",
              "      <td>1.0</td>\n",
              "      <td>1.0</td>\n",
              "      <td>30.0</td>\n",
              "      <td>30.0</td>\n",
              "      <td>150.0</td>\n",
              "      <td>36.0</td>\n",
              "      <td>69.0</td>\n",
              "      <td>34.0</td>\n",
              "      <td>152.0</td>\n",
              "      <td>30.0</td>\n",
              "    </tr>\n",
              "    <tr>\n",
              "      <th>3</th>\n",
              "      <td>3</td>\n",
              "      <td>Arizona Snowbowl</td>\n",
              "      <td>Arizona</td>\n",
              "      <td>Arizona</td>\n",
              "      <td>11500</td>\n",
              "      <td>2300</td>\n",
              "      <td>9200</td>\n",
              "      <td>0</td>\n",
              "      <td>1</td>\n",
              "      <td>0</td>\n",
              "      <td>2</td>\n",
              "      <td>2</td>\n",
              "      <td>1</td>\n",
              "      <td>2</td>\n",
              "      <td>8</td>\n",
              "      <td>55.0</td>\n",
              "      <td>4.0</td>\n",
              "      <td>2.0</td>\n",
              "      <td>777.0</td>\n",
              "      <td>104.0</td>\n",
              "      <td>122.0</td>\n",
              "      <td>81.0</td>\n",
              "      <td>260.0</td>\n",
              "      <td>89.0</td>\n",
              "      <td>122.0</td>\n",
              "      <td>NaN</td>\n",
              "    </tr>\n",
              "    <tr>\n",
              "      <th>4</th>\n",
              "      <td>4</td>\n",
              "      <td>Sunrise Park Resort</td>\n",
              "      <td>Arizona</td>\n",
              "      <td>Arizona</td>\n",
              "      <td>11100</td>\n",
              "      <td>1800</td>\n",
              "      <td>9200</td>\n",
              "      <td>0</td>\n",
              "      <td>0</td>\n",
              "      <td>1</td>\n",
              "      <td>2</td>\n",
              "      <td>3</td>\n",
              "      <td>1</td>\n",
              "      <td>0</td>\n",
              "      <td>7</td>\n",
              "      <td>65.0</td>\n",
              "      <td>2.0</td>\n",
              "      <td>1.2</td>\n",
              "      <td>800.0</td>\n",
              "      <td>80.0</td>\n",
              "      <td>115.0</td>\n",
              "      <td>49.0</td>\n",
              "      <td>250.0</td>\n",
              "      <td>78.0</td>\n",
              "      <td>104.0</td>\n",
              "      <td>80.0</td>\n",
              "    </tr>\n",
              "  </tbody>\n",
              "</table>\n",
              "</div>"
            ],
            "text/plain": [
              "   Unnamed: 0                 Name  ... projectedDaysOpen NightSkiing_ac\n",
              "0           0       Alyeska Resort  ...             150.0          550.0\n",
              "1           1  Eaglecrest Ski Area  ...              90.0            NaN\n",
              "2           2     Hilltop Ski Area  ...             152.0           30.0\n",
              "3           3     Arizona Snowbowl  ...             122.0            NaN\n",
              "4           4  Sunrise Park Resort  ...             104.0           80.0\n",
              "\n",
              "[5 rows x 26 columns]"
            ]
          },
          "metadata": {
            "tags": []
          },
          "execution_count": 4
        }
      ]
    },
    {
      "cell_type": "code",
      "metadata": {
        "id": "38wPGVGVehMW"
      },
      "source": [
        "#clean the data \n",
        "ski_data = ski_data.iloc[:,1:]"
      ],
      "execution_count": null,
      "outputs": []
    },
    {
      "cell_type": "code",
      "metadata": {
        "colab": {
          "base_uri": "https://localhost:8080/",
          "height": 343
        },
        "id": "vO8mgOE_eUX2",
        "outputId": "1ac2a5d2-7525-4e48-ef28-56fa7e56636b"
      },
      "source": [
        "ski_data.head()"
      ],
      "execution_count": null,
      "outputs": [
        {
          "output_type": "execute_result",
          "data": {
            "text/html": [
              "<div>\n",
              "<style scoped>\n",
              "    .dataframe tbody tr th:only-of-type {\n",
              "        vertical-align: middle;\n",
              "    }\n",
              "\n",
              "    .dataframe tbody tr th {\n",
              "        vertical-align: top;\n",
              "    }\n",
              "\n",
              "    .dataframe thead th {\n",
              "        text-align: right;\n",
              "    }\n",
              "</style>\n",
              "<table border=\"1\" class=\"dataframe\">\n",
              "  <thead>\n",
              "    <tr style=\"text-align: right;\">\n",
              "      <th></th>\n",
              "      <th>Name</th>\n",
              "      <th>Region</th>\n",
              "      <th>state</th>\n",
              "      <th>summit_elev</th>\n",
              "      <th>vertical_drop</th>\n",
              "      <th>base_elev</th>\n",
              "      <th>trams</th>\n",
              "      <th>fastSixes</th>\n",
              "      <th>fastQuads</th>\n",
              "      <th>quad</th>\n",
              "      <th>triple</th>\n",
              "      <th>double</th>\n",
              "      <th>surface</th>\n",
              "      <th>total_chairs</th>\n",
              "      <th>Runs</th>\n",
              "      <th>TerrainParks</th>\n",
              "      <th>LongestRun_mi</th>\n",
              "      <th>SkiableTerrain_ac</th>\n",
              "      <th>Snow Making_ac</th>\n",
              "      <th>daysOpenLastYear</th>\n",
              "      <th>yearsOpen</th>\n",
              "      <th>averageSnowfall</th>\n",
              "      <th>AdultWeekend</th>\n",
              "      <th>projectedDaysOpen</th>\n",
              "      <th>NightSkiing_ac</th>\n",
              "    </tr>\n",
              "  </thead>\n",
              "  <tbody>\n",
              "    <tr>\n",
              "      <th>0</th>\n",
              "      <td>Alyeska Resort</td>\n",
              "      <td>Alaska</td>\n",
              "      <td>Alaska</td>\n",
              "      <td>3939</td>\n",
              "      <td>2500</td>\n",
              "      <td>250</td>\n",
              "      <td>1</td>\n",
              "      <td>0</td>\n",
              "      <td>2</td>\n",
              "      <td>2</td>\n",
              "      <td>0</td>\n",
              "      <td>0</td>\n",
              "      <td>2</td>\n",
              "      <td>7</td>\n",
              "      <td>76.0</td>\n",
              "      <td>2.0</td>\n",
              "      <td>1.0</td>\n",
              "      <td>1610.0</td>\n",
              "      <td>113.0</td>\n",
              "      <td>150.0</td>\n",
              "      <td>60.0</td>\n",
              "      <td>669.0</td>\n",
              "      <td>85.0</td>\n",
              "      <td>150.0</td>\n",
              "      <td>550.0</td>\n",
              "    </tr>\n",
              "    <tr>\n",
              "      <th>1</th>\n",
              "      <td>Eaglecrest Ski Area</td>\n",
              "      <td>Alaska</td>\n",
              "      <td>Alaska</td>\n",
              "      <td>2600</td>\n",
              "      <td>1540</td>\n",
              "      <td>1200</td>\n",
              "      <td>0</td>\n",
              "      <td>0</td>\n",
              "      <td>0</td>\n",
              "      <td>0</td>\n",
              "      <td>0</td>\n",
              "      <td>4</td>\n",
              "      <td>0</td>\n",
              "      <td>4</td>\n",
              "      <td>36.0</td>\n",
              "      <td>1.0</td>\n",
              "      <td>2.0</td>\n",
              "      <td>640.0</td>\n",
              "      <td>60.0</td>\n",
              "      <td>45.0</td>\n",
              "      <td>44.0</td>\n",
              "      <td>350.0</td>\n",
              "      <td>53.0</td>\n",
              "      <td>90.0</td>\n",
              "      <td>NaN</td>\n",
              "    </tr>\n",
              "    <tr>\n",
              "      <th>2</th>\n",
              "      <td>Hilltop Ski Area</td>\n",
              "      <td>Alaska</td>\n",
              "      <td>Alaska</td>\n",
              "      <td>2090</td>\n",
              "      <td>294</td>\n",
              "      <td>1796</td>\n",
              "      <td>0</td>\n",
              "      <td>0</td>\n",
              "      <td>0</td>\n",
              "      <td>0</td>\n",
              "      <td>1</td>\n",
              "      <td>0</td>\n",
              "      <td>2</td>\n",
              "      <td>3</td>\n",
              "      <td>13.0</td>\n",
              "      <td>1.0</td>\n",
              "      <td>1.0</td>\n",
              "      <td>30.0</td>\n",
              "      <td>30.0</td>\n",
              "      <td>150.0</td>\n",
              "      <td>36.0</td>\n",
              "      <td>69.0</td>\n",
              "      <td>34.0</td>\n",
              "      <td>152.0</td>\n",
              "      <td>30.0</td>\n",
              "    </tr>\n",
              "    <tr>\n",
              "      <th>3</th>\n",
              "      <td>Arizona Snowbowl</td>\n",
              "      <td>Arizona</td>\n",
              "      <td>Arizona</td>\n",
              "      <td>11500</td>\n",
              "      <td>2300</td>\n",
              "      <td>9200</td>\n",
              "      <td>0</td>\n",
              "      <td>1</td>\n",
              "      <td>0</td>\n",
              "      <td>2</td>\n",
              "      <td>2</td>\n",
              "      <td>1</td>\n",
              "      <td>2</td>\n",
              "      <td>8</td>\n",
              "      <td>55.0</td>\n",
              "      <td>4.0</td>\n",
              "      <td>2.0</td>\n",
              "      <td>777.0</td>\n",
              "      <td>104.0</td>\n",
              "      <td>122.0</td>\n",
              "      <td>81.0</td>\n",
              "      <td>260.0</td>\n",
              "      <td>89.0</td>\n",
              "      <td>122.0</td>\n",
              "      <td>NaN</td>\n",
              "    </tr>\n",
              "    <tr>\n",
              "      <th>4</th>\n",
              "      <td>Sunrise Park Resort</td>\n",
              "      <td>Arizona</td>\n",
              "      <td>Arizona</td>\n",
              "      <td>11100</td>\n",
              "      <td>1800</td>\n",
              "      <td>9200</td>\n",
              "      <td>0</td>\n",
              "      <td>0</td>\n",
              "      <td>1</td>\n",
              "      <td>2</td>\n",
              "      <td>3</td>\n",
              "      <td>1</td>\n",
              "      <td>0</td>\n",
              "      <td>7</td>\n",
              "      <td>65.0</td>\n",
              "      <td>2.0</td>\n",
              "      <td>1.2</td>\n",
              "      <td>800.0</td>\n",
              "      <td>80.0</td>\n",
              "      <td>115.0</td>\n",
              "      <td>49.0</td>\n",
              "      <td>250.0</td>\n",
              "      <td>78.0</td>\n",
              "      <td>104.0</td>\n",
              "      <td>80.0</td>\n",
              "    </tr>\n",
              "  </tbody>\n",
              "</table>\n",
              "</div>"
            ],
            "text/plain": [
              "                  Name   Region  ... projectedDaysOpen  NightSkiing_ac\n",
              "0       Alyeska Resort   Alaska  ...             150.0           550.0\n",
              "1  Eaglecrest Ski Area   Alaska  ...              90.0             NaN\n",
              "2     Hilltop Ski Area   Alaska  ...             152.0            30.0\n",
              "3     Arizona Snowbowl  Arizona  ...             122.0             NaN\n",
              "4  Sunrise Park Resort  Arizona  ...             104.0            80.0\n",
              "\n",
              "[5 rows x 25 columns]"
            ]
          },
          "metadata": {
            "tags": []
          },
          "execution_count": 6
        }
      ]
    },
    {
      "cell_type": "code",
      "metadata": {
        "colab": {
          "base_uri": "https://localhost:8080/"
        },
        "id": "ZI6nRL1teyV1",
        "outputId": "b1319ba8-2f94-491e-d88d-0573fef0b732"
      },
      "source": [
        "ski_data.index\n",
        "ski_data.columns"
      ],
      "execution_count": null,
      "outputs": [
        {
          "output_type": "execute_result",
          "data": {
            "text/plain": [
              "Index(['Name', 'Region', 'state', 'summit_elev', 'vertical_drop', 'base_elev',\n",
              "       'trams', 'fastSixes', 'fastQuads', 'quad', 'triple', 'double',\n",
              "       'surface', 'total_chairs', 'Runs', 'TerrainParks', 'LongestRun_mi',\n",
              "       'SkiableTerrain_ac', 'Snow Making_ac', 'daysOpenLastYear', 'yearsOpen',\n",
              "       'averageSnowfall', 'AdultWeekend', 'projectedDaysOpen',\n",
              "       'NightSkiing_ac'],\n",
              "      dtype='object')"
            ]
          },
          "metadata": {
            "tags": []
          },
          "execution_count": 7
        }
      ]
    },
    {
      "cell_type": "markdown",
      "metadata": {
        "id": "H1DV2ApYs5kD"
      },
      "source": [
        "### 3.4.2 State-wide summary data<a id='3.4.2_State-wide_summary_data'></a>"
      ]
    },
    {
      "cell_type": "code",
      "metadata": {
        "id": "tNFRVE5ws5kD"
      },
      "source": [
        "state_summary = pd.read_csv('state_summary.csv')"
      ],
      "execution_count": null,
      "outputs": []
    },
    {
      "cell_type": "code",
      "metadata": {
        "id": "BDo9jhYOs5kD",
        "colab": {
          "base_uri": "https://localhost:8080/"
        },
        "outputId": "683c99f9-5ee3-4cfc-d646-a6adbf78919e"
      },
      "source": [
        "state_summary.info()"
      ],
      "execution_count": null,
      "outputs": [
        {
          "output_type": "stream",
          "text": [
            "<class 'pandas.core.frame.DataFrame'>\n",
            "RangeIndex: 35 entries, 0 to 34\n",
            "Data columns (total 9 columns):\n",
            " #   Column                       Non-Null Count  Dtype  \n",
            "---  ------                       --------------  -----  \n",
            " 0   Unnamed: 0                   35 non-null     int64  \n",
            " 1   state                        35 non-null     object \n",
            " 2   resorts_per_state            35 non-null     int64  \n",
            " 3   state_total_skiable_area_ac  35 non-null     float64\n",
            " 4   state_total_days_open        35 non-null     float64\n",
            " 5   state_total_terrain_parks    35 non-null     float64\n",
            " 6   state_total_nightskiing_ac   35 non-null     float64\n",
            " 7   state_population             35 non-null     int64  \n",
            " 8   state_area_sq_miles          35 non-null     int64  \n",
            "dtypes: float64(4), int64(4), object(1)\n",
            "memory usage: 2.6+ KB\n"
          ],
          "name": "stdout"
        }
      ]
    },
    {
      "cell_type": "code",
      "metadata": {
        "scrolled": true,
        "colab": {
          "base_uri": "https://localhost:8080/"
        },
        "id": "rM7j9mv0s5kE",
        "outputId": "060c5774-ca11-4f1e-ba8e-e8057b983c91"
      },
      "source": [
        "state_summary.head()"
      ],
      "execution_count": null,
      "outputs": [
        {
          "output_type": "execute_result",
          "data": {
            "text/html": [
              "<div>\n",
              "<style scoped>\n",
              "    .dataframe tbody tr th:only-of-type {\n",
              "        vertical-align: middle;\n",
              "    }\n",
              "\n",
              "    .dataframe tbody tr th {\n",
              "        vertical-align: top;\n",
              "    }\n",
              "\n",
              "    .dataframe thead th {\n",
              "        text-align: right;\n",
              "    }\n",
              "</style>\n",
              "<table border=\"1\" class=\"dataframe\">\n",
              "  <thead>\n",
              "    <tr style=\"text-align: right;\">\n",
              "      <th></th>\n",
              "      <th>Unnamed: 0</th>\n",
              "      <th>state</th>\n",
              "      <th>resorts_per_state</th>\n",
              "      <th>state_total_skiable_area_ac</th>\n",
              "      <th>state_total_days_open</th>\n",
              "      <th>state_total_terrain_parks</th>\n",
              "      <th>state_total_nightskiing_ac</th>\n",
              "      <th>state_population</th>\n",
              "      <th>state_area_sq_miles</th>\n",
              "    </tr>\n",
              "  </thead>\n",
              "  <tbody>\n",
              "    <tr>\n",
              "      <th>0</th>\n",
              "      <td>0</td>\n",
              "      <td>Alaska</td>\n",
              "      <td>3</td>\n",
              "      <td>2280.0</td>\n",
              "      <td>345.0</td>\n",
              "      <td>4.0</td>\n",
              "      <td>580.0</td>\n",
              "      <td>731545</td>\n",
              "      <td>665384</td>\n",
              "    </tr>\n",
              "    <tr>\n",
              "      <th>1</th>\n",
              "      <td>1</td>\n",
              "      <td>Arizona</td>\n",
              "      <td>2</td>\n",
              "      <td>1577.0</td>\n",
              "      <td>237.0</td>\n",
              "      <td>6.0</td>\n",
              "      <td>80.0</td>\n",
              "      <td>7278717</td>\n",
              "      <td>113990</td>\n",
              "    </tr>\n",
              "    <tr>\n",
              "      <th>2</th>\n",
              "      <td>2</td>\n",
              "      <td>California</td>\n",
              "      <td>21</td>\n",
              "      <td>25948.0</td>\n",
              "      <td>2738.0</td>\n",
              "      <td>81.0</td>\n",
              "      <td>587.0</td>\n",
              "      <td>39512223</td>\n",
              "      <td>163695</td>\n",
              "    </tr>\n",
              "    <tr>\n",
              "      <th>3</th>\n",
              "      <td>3</td>\n",
              "      <td>Colorado</td>\n",
              "      <td>22</td>\n",
              "      <td>43682.0</td>\n",
              "      <td>3258.0</td>\n",
              "      <td>74.0</td>\n",
              "      <td>428.0</td>\n",
              "      <td>5758736</td>\n",
              "      <td>104094</td>\n",
              "    </tr>\n",
              "    <tr>\n",
              "      <th>4</th>\n",
              "      <td>4</td>\n",
              "      <td>Connecticut</td>\n",
              "      <td>5</td>\n",
              "      <td>358.0</td>\n",
              "      <td>353.0</td>\n",
              "      <td>10.0</td>\n",
              "      <td>256.0</td>\n",
              "      <td>3565278</td>\n",
              "      <td>5543</td>\n",
              "    </tr>\n",
              "  </tbody>\n",
              "</table>\n",
              "</div>"
            ],
            "text/plain": [
              "   Unnamed: 0        state  ...  state_population  state_area_sq_miles\n",
              "0           0       Alaska  ...            731545               665384\n",
              "1           1      Arizona  ...           7278717               113990\n",
              "2           2   California  ...          39512223               163695\n",
              "3           3     Colorado  ...           5758736               104094\n",
              "4           4  Connecticut  ...           3565278                 5543\n",
              "\n",
              "[5 rows x 9 columns]"
            ]
          },
          "metadata": {
            "tags": []
          },
          "execution_count": 10
        }
      ]
    },
    {
      "cell_type": "code",
      "metadata": {
        "id": "fc5Tqt1HhFOF"
      },
      "source": [
        "#clean the data \n",
        "state_summary = state_summary.iloc[:,1:]"
      ],
      "execution_count": null,
      "outputs": []
    },
    {
      "cell_type": "code",
      "metadata": {
        "colab": {
          "base_uri": "https://localhost:8080/"
        },
        "id": "MILEkd_dhOWd",
        "outputId": "7f64d83f-31ba-409f-9545-23b66be36702"
      },
      "source": [
        "state_summary.head()"
      ],
      "execution_count": null,
      "outputs": [
        {
          "output_type": "execute_result",
          "data": {
            "text/html": [
              "<div>\n",
              "<style scoped>\n",
              "    .dataframe tbody tr th:only-of-type {\n",
              "        vertical-align: middle;\n",
              "    }\n",
              "\n",
              "    .dataframe tbody tr th {\n",
              "        vertical-align: top;\n",
              "    }\n",
              "\n",
              "    .dataframe thead th {\n",
              "        text-align: right;\n",
              "    }\n",
              "</style>\n",
              "<table border=\"1\" class=\"dataframe\">\n",
              "  <thead>\n",
              "    <tr style=\"text-align: right;\">\n",
              "      <th></th>\n",
              "      <th>state</th>\n",
              "      <th>resorts_per_state</th>\n",
              "      <th>state_total_skiable_area_ac</th>\n",
              "      <th>state_total_days_open</th>\n",
              "      <th>state_total_terrain_parks</th>\n",
              "      <th>state_total_nightskiing_ac</th>\n",
              "      <th>state_population</th>\n",
              "      <th>state_area_sq_miles</th>\n",
              "    </tr>\n",
              "  </thead>\n",
              "  <tbody>\n",
              "    <tr>\n",
              "      <th>0</th>\n",
              "      <td>Alaska</td>\n",
              "      <td>3</td>\n",
              "      <td>2280.0</td>\n",
              "      <td>345.0</td>\n",
              "      <td>4.0</td>\n",
              "      <td>580.0</td>\n",
              "      <td>731545</td>\n",
              "      <td>665384</td>\n",
              "    </tr>\n",
              "    <tr>\n",
              "      <th>1</th>\n",
              "      <td>Arizona</td>\n",
              "      <td>2</td>\n",
              "      <td>1577.0</td>\n",
              "      <td>237.0</td>\n",
              "      <td>6.0</td>\n",
              "      <td>80.0</td>\n",
              "      <td>7278717</td>\n",
              "      <td>113990</td>\n",
              "    </tr>\n",
              "    <tr>\n",
              "      <th>2</th>\n",
              "      <td>California</td>\n",
              "      <td>21</td>\n",
              "      <td>25948.0</td>\n",
              "      <td>2738.0</td>\n",
              "      <td>81.0</td>\n",
              "      <td>587.0</td>\n",
              "      <td>39512223</td>\n",
              "      <td>163695</td>\n",
              "    </tr>\n",
              "    <tr>\n",
              "      <th>3</th>\n",
              "      <td>Colorado</td>\n",
              "      <td>22</td>\n",
              "      <td>43682.0</td>\n",
              "      <td>3258.0</td>\n",
              "      <td>74.0</td>\n",
              "      <td>428.0</td>\n",
              "      <td>5758736</td>\n",
              "      <td>104094</td>\n",
              "    </tr>\n",
              "    <tr>\n",
              "      <th>4</th>\n",
              "      <td>Connecticut</td>\n",
              "      <td>5</td>\n",
              "      <td>358.0</td>\n",
              "      <td>353.0</td>\n",
              "      <td>10.0</td>\n",
              "      <td>256.0</td>\n",
              "      <td>3565278</td>\n",
              "      <td>5543</td>\n",
              "    </tr>\n",
              "  </tbody>\n",
              "</table>\n",
              "</div>"
            ],
            "text/plain": [
              "         state  resorts_per_state  ...  state_population  state_area_sq_miles\n",
              "0       Alaska                  3  ...            731545               665384\n",
              "1      Arizona                  2  ...           7278717               113990\n",
              "2   California                 21  ...          39512223               163695\n",
              "3     Colorado                 22  ...           5758736               104094\n",
              "4  Connecticut                  5  ...           3565278                 5543\n",
              "\n",
              "[5 rows x 8 columns]"
            ]
          },
          "metadata": {
            "tags": []
          },
          "execution_count": 12
        }
      ]
    },
    {
      "cell_type": "markdown",
      "metadata": {
        "id": "WBceS-7ms5kE"
      },
      "source": [
        "## 3.5 Explore The Data<a id='3.5_Explore_The_Data'></a>"
      ]
    },
    {
      "cell_type": "markdown",
      "metadata": {
        "id": "Sq4Nbe68s5kE"
      },
      "source": [
        "### 3.5.1 Top States By Order Of Each Of The Summary Statistics<a id='3.5.1_Top_States_By_Order_Of_Each_Of_The_Summary_Statistics'></a>"
      ]
    },
    {
      "cell_type": "markdown",
      "metadata": {
        "id": "rsandZsFs5kE"
      },
      "source": [
        "What does the state-wide picture for your market look like?"
      ]
    },
    {
      "cell_type": "code",
      "metadata": {
        "id": "qTZpTN2hs5kE"
      },
      "source": [
        "state_summary_newind = state_summary.set_index('state')"
      ],
      "execution_count": null,
      "outputs": []
    },
    {
      "cell_type": "markdown",
      "metadata": {
        "id": "RgE-h4Izs5kE"
      },
      "source": [
        "#### 3.5.1.1 Total state area<a id='3.5.1.1_Total_state_area'></a>"
      ]
    },
    {
      "cell_type": "code",
      "metadata": {
        "colab": {
          "base_uri": "https://localhost:8080/"
        },
        "id": "m-fWFPSqs5kE",
        "outputId": "e6a28cb3-1f78-4ac2-bcfb-725ab43b4dde"
      },
      "source": [
        "state_summary_newind.state_area_sq_miles.sort_values(ascending=False).head()"
      ],
      "execution_count": null,
      "outputs": [
        {
          "output_type": "execute_result",
          "data": {
            "text/plain": [
              "state\n",
              "Alaska        665384\n",
              "California    163695\n",
              "Montana       147040\n",
              "New Mexico    121590\n",
              "Arizona       113990\n",
              "Name: state_area_sq_miles, dtype: int64"
            ]
          },
          "metadata": {
            "tags": []
          },
          "execution_count": 14
        }
      ]
    },
    {
      "cell_type": "markdown",
      "metadata": {
        "id": "QJJCEV7gs5kF"
      },
      "source": [
        "Your home state, Montana, comes in at third largest."
      ]
    },
    {
      "cell_type": "markdown",
      "metadata": {
        "id": "z0j-_rzws5kF"
      },
      "source": [
        "#### 3.5.1.2 Total state population<a id='3.5.1.2_Total_state_population'></a>"
      ]
    },
    {
      "cell_type": "code",
      "metadata": {
        "colab": {
          "base_uri": "https://localhost:8080/"
        },
        "id": "KTMN2Lfvs5kF",
        "outputId": "491f16ac-f5a9-4ae4-90b7-1cd07511f6e2"
      },
      "source": [
        "state_summary_newind.state_population.sort_values(ascending=False).head()"
      ],
      "execution_count": null,
      "outputs": [
        {
          "output_type": "execute_result",
          "data": {
            "text/plain": [
              "state\n",
              "California      39512223\n",
              "New York        19453561\n",
              "Pennsylvania    12801989\n",
              "Illinois        12671821\n",
              "Ohio            11689100\n",
              "Name: state_population, dtype: int64"
            ]
          },
          "metadata": {
            "tags": []
          },
          "execution_count": 15
        }
      ]
    },
    {
      "cell_type": "markdown",
      "metadata": {
        "id": "-4NOZZdIs5kF"
      },
      "source": [
        "California dominates the state population figures despite coming in second behind Alaska in size (by a long way). The resort's state of Montana was in the top five for size, but doesn't figure in the most populous states. Thus your state is less densely populated."
      ]
    },
    {
      "cell_type": "markdown",
      "metadata": {
        "id": "EsWWd7G2s5kG"
      },
      "source": [
        "#### 3.5.1.3 Resorts per state<a id='3.5.1.3_Resorts_per_state'></a>"
      ]
    },
    {
      "cell_type": "code",
      "metadata": {
        "colab": {
          "base_uri": "https://localhost:8080/"
        },
        "id": "TN2S8OJVs5kG",
        "outputId": "be2a98c2-5c60-4035-dc9b-790e1a70c26d"
      },
      "source": [
        "state_summary_newind.resorts_per_state.sort_values(ascending=False).head()"
      ],
      "execution_count": null,
      "outputs": [
        {
          "output_type": "execute_result",
          "data": {
            "text/plain": [
              "state\n",
              "New York        33\n",
              "Michigan        28\n",
              "Colorado        22\n",
              "California      21\n",
              "Pennsylvania    19\n",
              "Name: resorts_per_state, dtype: int64"
            ]
          },
          "metadata": {
            "tags": []
          },
          "execution_count": 16
        }
      ]
    },
    {
      "cell_type": "markdown",
      "metadata": {
        "id": "Q0pm_-_rs5kG"
      },
      "source": [
        "New York comes top in the number of resorts in our market. Is this because of its proximity to wealthy New Yorkers wanting a convenient skiing trip? Or is it simply that its northerly location means there are plenty of good locations for resorts in that state?"
      ]
    },
    {
      "cell_type": "markdown",
      "metadata": {
        "id": "eWDMiIEks5kG"
      },
      "source": [
        "#### 3.5.1.4 Total skiable area<a id='3.5.1.4_Total_skiable_area'></a>"
      ]
    },
    {
      "cell_type": "code",
      "metadata": {
        "colab": {
          "base_uri": "https://localhost:8080/"
        },
        "id": "q8eDAYdqs5kG",
        "outputId": "4d15e676-89ed-4262-e372-9c2ff1ee8f12"
      },
      "source": [
        "state_summary_newind.state_total_skiable_area_ac.sort_values(ascending=False).head()"
      ],
      "execution_count": null,
      "outputs": [
        {
          "output_type": "execute_result",
          "data": {
            "text/plain": [
              "state\n",
              "Colorado      43682.0\n",
              "Utah          30508.0\n",
              "California    25948.0\n",
              "Montana       21410.0\n",
              "Idaho         16396.0\n",
              "Name: state_total_skiable_area_ac, dtype: float64"
            ]
          },
          "metadata": {
            "tags": []
          },
          "execution_count": 17
        }
      ]
    },
    {
      "cell_type": "markdown",
      "metadata": {
        "id": "7VmVRDkWs5kG"
      },
      "source": [
        "New York state may have the most resorts, but they don't account for the most skiing area. In fact, New York doesn't even make it into the top five of skiable area. Good old Montana makes it into the top five, though. You may start to think that New York has more, smaller resorts, whereas Montana has fewer, larger resorts. Colorado seems to have a name for skiing; it's in the top five for resorts and in top place for total skiable area."
      ]
    },
    {
      "cell_type": "markdown",
      "metadata": {
        "id": "hCrbgp_Cs5kG"
      },
      "source": [
        "#### 3.5.1.5 Total night skiing area<a id='3.5.1.5_Total_night_skiing_area'></a>"
      ]
    },
    {
      "cell_type": "code",
      "metadata": {
        "colab": {
          "base_uri": "https://localhost:8080/"
        },
        "id": "Q8v-QSYos5kH",
        "outputId": "a50dc569-ceb8-4256-b003-6392a80ae58c"
      },
      "source": [
        "state_summary_newind.state_total_nightskiing_ac.sort_values(ascending=False).head()"
      ],
      "execution_count": null,
      "outputs": [
        {
          "output_type": "execute_result",
          "data": {
            "text/plain": [
              "state\n",
              "New York        2836.0\n",
              "Washington      1997.0\n",
              "Michigan        1946.0\n",
              "Pennsylvania    1528.0\n",
              "Oregon          1127.0\n",
              "Name: state_total_nightskiing_ac, dtype: float64"
            ]
          },
          "metadata": {
            "tags": []
          },
          "execution_count": 18
        }
      ]
    },
    {
      "cell_type": "markdown",
      "metadata": {
        "id": "88d7yBbfs5kH"
      },
      "source": [
        "New York dominates the area of skiing available at night. Looking at the top five in general, they are all the more northerly states. Is night skiing in and of itself an appeal to customers, or is a consequence of simply trying to extend the skiing day where days are shorter? Is New York's domination here because it's trying to maximize its appeal to visitors who'd travel a shorter distance for a shorter visit? You'll find the data generates more (good) questions rather than answering them. This is a positive sign! You might ask your executive sponsor or data provider for some additional data about typical length of stays at these resorts, although you might end up with data that is very granular and most likely proprietary to each resort. A useful level of granularity might be \"number of day tickets\" and \"number of weekly passes\" sold."
      ]
    },
    {
      "cell_type": "markdown",
      "metadata": {
        "id": "97wQoUK6s5kH"
      },
      "source": [
        "#### 3.5.1.6 Total days open<a id='3.5.1.6_Total_days_open'></a>"
      ]
    },
    {
      "cell_type": "code",
      "metadata": {
        "colab": {
          "base_uri": "https://localhost:8080/"
        },
        "id": "gfTfFmRSs5kH",
        "outputId": "436f91c8-3ae2-421a-e2eb-4538e1f3e8d0"
      },
      "source": [
        "state_summary_newind.state_total_days_open.sort_values(ascending=False).head()"
      ],
      "execution_count": null,
      "outputs": [
        {
          "output_type": "execute_result",
          "data": {
            "text/plain": [
              "state\n",
              "Colorado         3258.0\n",
              "California       2738.0\n",
              "Michigan         2389.0\n",
              "New York         2384.0\n",
              "New Hampshire    1847.0\n",
              "Name: state_total_days_open, dtype: float64"
            ]
          },
          "metadata": {
            "tags": []
          },
          "execution_count": 19
        }
      ]
    },
    {
      "cell_type": "markdown",
      "metadata": {
        "id": "A84ZwAdgs5kH"
      },
      "source": [
        "The total days open seem to bear some resemblance to the number of resorts. This is plausible. The season will only be so long, and so the more resorts open through the skiing season, the more total days open we'll see. New Hampshire makes a good effort at making it into the top five, for a small state that didn't make it into the top five of resorts per state. Does its location mean resorts there have a longer season and so stay open longer, despite there being fewer of them?"
      ]
    },
    {
      "cell_type": "markdown",
      "metadata": {
        "id": "KW3UXeGNs5kH"
      },
      "source": [
        "### 3.5.2 Resort density<a id='3.5.2_Resort_density'></a>"
      ]
    },
    {
      "cell_type": "markdown",
      "metadata": {
        "id": "84OlIDaZs5kI"
      },
      "source": [
        "There are big states which are not necessarily the most populous. There are states that host many resorts, but other states host a larger total skiing area. The states with the most total days skiing per season are not necessarily those with the most resorts. And New York State boasts an especially large night skiing area. New York had the most resorts but wasn't in the top five largest states, so the reason for it having the most resorts can't be simply having lots of space for them. New York has the second largest population behind California. Perhaps many resorts have sprung up in New York because of the population size? Does this mean there is a high competition between resorts in New York State, fighting for customers and thus keeping prices down? You're not concerned, per se, with the absolute size or population of a state, but you could be interested in the ratio of resorts serving a given population or a given area.\n",
        "\n",
        "So, calculate those ratios! Think of them as measures of resort density, and drop the absolute population and state size columns."
      ]
    },
    {
      "cell_type": "code",
      "metadata": {
        "colab": {
          "base_uri": "https://localhost:8080/"
        },
        "id": "_Y1gtiM-s5kI",
        "outputId": "a41ca249-ce74-4f1a-c28e-242f81c43c5c"
      },
      "source": [
        "# The 100_000 scaling is simply based on eyeballing the magnitudes of the data\n",
        "state_summary['resorts_per_100kcapita'] = 100_000 * state_summary.resorts_per_state / state_summary.state_population\n",
        "state_summary['resorts_per_100ksq_mile'] = 100_000 * state_summary.resorts_per_state / state_summary.state_area_sq_miles\n",
        "state_summary.drop(columns=['state_population', 'state_area_sq_miles'], inplace=True)\n",
        "state_summary.head()"
      ],
      "execution_count": null,
      "outputs": [
        {
          "output_type": "execute_result",
          "data": {
            "text/html": [
              "<div>\n",
              "<style scoped>\n",
              "    .dataframe tbody tr th:only-of-type {\n",
              "        vertical-align: middle;\n",
              "    }\n",
              "\n",
              "    .dataframe tbody tr th {\n",
              "        vertical-align: top;\n",
              "    }\n",
              "\n",
              "    .dataframe thead th {\n",
              "        text-align: right;\n",
              "    }\n",
              "</style>\n",
              "<table border=\"1\" class=\"dataframe\">\n",
              "  <thead>\n",
              "    <tr style=\"text-align: right;\">\n",
              "      <th></th>\n",
              "      <th>state</th>\n",
              "      <th>resorts_per_state</th>\n",
              "      <th>state_total_skiable_area_ac</th>\n",
              "      <th>state_total_days_open</th>\n",
              "      <th>state_total_terrain_parks</th>\n",
              "      <th>state_total_nightskiing_ac</th>\n",
              "      <th>resorts_per_100kcapita</th>\n",
              "      <th>resorts_per_100ksq_mile</th>\n",
              "    </tr>\n",
              "  </thead>\n",
              "  <tbody>\n",
              "    <tr>\n",
              "      <th>0</th>\n",
              "      <td>Alaska</td>\n",
              "      <td>3</td>\n",
              "      <td>2280.0</td>\n",
              "      <td>345.0</td>\n",
              "      <td>4.0</td>\n",
              "      <td>580.0</td>\n",
              "      <td>0.410091</td>\n",
              "      <td>0.450867</td>\n",
              "    </tr>\n",
              "    <tr>\n",
              "      <th>1</th>\n",
              "      <td>Arizona</td>\n",
              "      <td>2</td>\n",
              "      <td>1577.0</td>\n",
              "      <td>237.0</td>\n",
              "      <td>6.0</td>\n",
              "      <td>80.0</td>\n",
              "      <td>0.027477</td>\n",
              "      <td>1.754540</td>\n",
              "    </tr>\n",
              "    <tr>\n",
              "      <th>2</th>\n",
              "      <td>California</td>\n",
              "      <td>21</td>\n",
              "      <td>25948.0</td>\n",
              "      <td>2738.0</td>\n",
              "      <td>81.0</td>\n",
              "      <td>587.0</td>\n",
              "      <td>0.053148</td>\n",
              "      <td>12.828736</td>\n",
              "    </tr>\n",
              "    <tr>\n",
              "      <th>3</th>\n",
              "      <td>Colorado</td>\n",
              "      <td>22</td>\n",
              "      <td>43682.0</td>\n",
              "      <td>3258.0</td>\n",
              "      <td>74.0</td>\n",
              "      <td>428.0</td>\n",
              "      <td>0.382028</td>\n",
              "      <td>21.134744</td>\n",
              "    </tr>\n",
              "    <tr>\n",
              "      <th>4</th>\n",
              "      <td>Connecticut</td>\n",
              "      <td>5</td>\n",
              "      <td>358.0</td>\n",
              "      <td>353.0</td>\n",
              "      <td>10.0</td>\n",
              "      <td>256.0</td>\n",
              "      <td>0.140242</td>\n",
              "      <td>90.203861</td>\n",
              "    </tr>\n",
              "  </tbody>\n",
              "</table>\n",
              "</div>"
            ],
            "text/plain": [
              "         state  ...  resorts_per_100ksq_mile\n",
              "0       Alaska  ...                 0.450867\n",
              "1      Arizona  ...                 1.754540\n",
              "2   California  ...                12.828736\n",
              "3     Colorado  ...                21.134744\n",
              "4  Connecticut  ...                90.203861\n",
              "\n",
              "[5 rows x 8 columns]"
            ]
          },
          "metadata": {
            "tags": []
          },
          "execution_count": 20
        }
      ]
    },
    {
      "cell_type": "markdown",
      "metadata": {
        "id": "c9UtOew-s5kI"
      },
      "source": [
        "With the removal of the two columns that only spoke to state-specific data, you now have a Dataframe that speaks to the skiing competitive landscape of each state. It has the number of resorts per state, total skiable area, and days of skiing. You've translated the plain state data into something more useful that gives you an idea of the density of resorts relative to the state population and size."
      ]
    },
    {
      "cell_type": "code",
      "metadata": {
        "id": "kg2c7-AFJT2x"
      },
      "source": [
        ""
      ],
      "execution_count": null,
      "outputs": []
    },
    {
      "cell_type": "markdown",
      "metadata": {
        "id": "l602n91Es5kI"
      },
      "source": [
        "How do the distributions of these two new features look?"
      ]
    },
    {
      "cell_type": "code",
      "metadata": {
        "id": "OyOg8cTDs5kI",
        "colab": {
          "base_uri": "https://localhost:8080/"
        },
        "outputId": "0464c312-b46e-47ea-90ad-905f9ba6a0fe"
      },
      "source": [
        "state_summary.resorts_per_100kcapita.hist(bins=30)\n",
        "plt.xlabel('Number of resorts per 100k population')\n",
        "plt.ylabel('count');"
      ],
      "execution_count": null,
      "outputs": [
        {
          "output_type": "display_data",
          "data": {
            "image/png": "[encoded data removed]",
            "text/plain": [
              "<Figure size 432x288 with 1 Axes>"
            ]
          },
          "metadata": {
            "tags": [],
            "needs_background": "light"
          }
        }
      ]
    },
    {
      "cell_type": "code",
      "metadata": {
        "id": "ayVd1FFZs5kI",
        "colab": {
          "base_uri": "https://localhost:8080/"
        },
        "outputId": "797e8a97-457c-407d-b28e-0a7a42a03cd3"
      },
      "source": [
        "state_summary.resorts_per_100ksq_mile.hist(bins=30)\n",
        "plt.xlabel('Number of resorts per 100k square miles')\n",
        "plt.ylabel('count');"
      ],
      "execution_count": null,
      "outputs": [
        {
          "output_type": "display_data",
          "data": {
            "image/png": "[encoded data removed]",
            "text/plain": [
              "<Figure size 432x288 with 1 Axes>"
            ]
          },
          "metadata": {
            "tags": [],
            "needs_background": "light"
          }
        }
      ]
    },
    {
      "cell_type": "markdown",
      "metadata": {
        "id": "S0iwf7yis5kJ"
      },
      "source": [
        "So they have quite some long tails on them, but there's definitely some structure there."
      ]
    },
    {
      "cell_type": "markdown",
      "metadata": {
        "id": "I-o528ads5kJ"
      },
      "source": [
        "#### 3.5.2.1 Top states by resort density<a id='3.5.2.1_Top_states_by_resort_density'></a>"
      ]
    },
    {
      "cell_type": "code",
      "metadata": {
        "id": "SHXj9goWs5kJ",
        "colab": {
          "base_uri": "https://localhost:8080/"
        },
        "outputId": "ba198975-a626-4f2e-eda3-9f2e2d04098b"
      },
      "source": [
        "state_summary.set_index('state').resorts_per_100kcapita.sort_values(ascending=False).head()"
      ],
      "execution_count": null,
      "outputs": [
        {
          "output_type": "execute_result",
          "data": {
            "text/plain": [
              "state\n",
              "Vermont          2.403889\n",
              "Wyoming          1.382268\n",
              "New Hampshire    1.176721\n",
              "Montana          1.122778\n",
              "Idaho            0.671492\n",
              "Name: resorts_per_100kcapita, dtype: float64"
            ]
          },
          "metadata": {
            "tags": []
          },
          "execution_count": 23
        }
      ]
    },
    {
      "cell_type": "code",
      "metadata": {
        "id": "W5yVqp2js5kJ",
        "colab": {
          "base_uri": "https://localhost:8080/"
        },
        "outputId": "5ff120f3-2448-4460-8460-c9f5fa98501b"
      },
      "source": [
        "state_summary.set_index('state').resorts_per_100ksq_mile.sort_values(ascending=False).head()"
      ],
      "execution_count": null,
      "outputs": [
        {
          "output_type": "execute_result",
          "data": {
            "text/plain": [
              "state\n",
              "New Hampshire    171.141299\n",
              "Vermont          155.990017\n",
              "Massachusetts    104.225886\n",
              "Connecticut       90.203861\n",
              "Rhode Island      64.724919\n",
              "Name: resorts_per_100ksq_mile, dtype: float64"
            ]
          },
          "metadata": {
            "tags": []
          },
          "execution_count": 24
        }
      ]
    },
    {
      "cell_type": "markdown",
      "metadata": {
        "id": "BfPFFWj3s5kJ"
      },
      "source": [
        "Vermont seems particularly high in terms of resorts per capita, and both New Hampshire and Vermont top the chart for resorts per area. New York doesn't appear in either!"
      ]
    },
    {
      "cell_type": "markdown",
      "metadata": {
        "id": "CfzGBBo6s5kJ"
      },
      "source": [
        "### 3.5.3 Visualizing High Dimensional Data<a id='3.5.3_Visualizing_High_Dimensional_Data'></a>"
      ]
    },
    {
      "cell_type": "markdown",
      "metadata": {
        "id": "SNMsWIuts5kJ"
      },
      "source": [
        "You may be starting to feel there's a bit of a problem here, or at least a challenge. You've constructed some potentially useful and business relevant features, derived from summary statistics, for each of the states you're concerned with. You've explored many of these features in turn and found various trends. Some states are higher in some but not in others. Some features will also be more correlated with one another than others.\n",
        "\n",
        "One way to disentangle this interconnected web of relationships is via [principle components analysis](https://scikit-learn.org/stable/modules/generated/sklearn.decomposition.PCA.html#sklearn.decomposition.PCA) (PCA). This technique will find linear combinations of the original features that are uncorrelated with one another and order them by the amount of variance they explain. You can use these derived features to visualize the data in a lower dimension (e.g. 2 down from 7) and know how much variance the representation explains. You can also explore how the original features contribute to these derived features."
      ]
    },
    {
      "cell_type": "markdown",
      "metadata": {
        "id": "xSrX1X_Us5kJ"
      },
      "source": [
        "The basic steps in this process are:\n",
        "\n",
        "1. scale the data (important here because our features are heterogenous)\n",
        "2. fit the PCA transformation (learn the transformation from the data)\n",
        "3. apply the transformation to the data to create the derived features\n",
        "4. (optionally) use the derived features to look for patterns in the data and explore the coefficients"
      ]
    },
    {
      "cell_type": "markdown",
      "metadata": {
        "id": "32OKrIocs5kJ"
      },
      "source": [
        "#### 3.5.3.1 Scale the data<a id='3.5.3.1_Scale_the_data'></a>"
      ]
    },
    {
      "cell_type": "markdown",
      "metadata": {
        "id": "0XJJmhugs5kJ"
      },
      "source": [
        "You only want numeric data here, although you don't want to lose track of the state labels, so it's convenient to set the state as the index."
      ]
    },
    {
      "cell_type": "code",
      "metadata": {
        "id": "W6BKdK-js5kK",
        "colab": {
          "base_uri": "https://localhost:8080/",
          "height": 235
        },
        "outputId": "80728fb2-4b25-44d6-dfdd-13c7b3705662"
      },
      "source": [
        "#Code task 1#\n",
        "#Create a new dataframe, `state_summary_scale` from `state_summary` whilst setting the index to 'state'\n",
        "state_summary_scale = state_summary.set_index('state')\n",
        "#Save the state labels (using the index attribute of `state_summary_scale`) into the variable 'state_summary_index'\n",
        "state_summary_index = state_summary_scale.index\n",
        "#Save the column names (using the `columns` attribute) of `state_summary_scale` into the variable 'state_summary_columns'\n",
        "state_summary_columns = state_summary_scale.columns\n",
        "state_summary_scale.head()\n"
      ],
      "execution_count": null,
      "outputs": [
        {
          "output_type": "execute_result",
          "data": {
            "text/html": [
              "<div>\n",
              "<style scoped>\n",
              "    .dataframe tbody tr th:only-of-type {\n",
              "        vertical-align: middle;\n",
              "    }\n",
              "\n",
              "    .dataframe tbody tr th {\n",
              "        vertical-align: top;\n",
              "    }\n",
              "\n",
              "    .dataframe thead th {\n",
              "        text-align: right;\n",
              "    }\n",
              "</style>\n",
              "<table border=\"1\" class=\"dataframe\">\n",
              "  <thead>\n",
              "    <tr style=\"text-align: right;\">\n",
              "      <th></th>\n",
              "      <th>resorts_per_state</th>\n",
              "      <th>state_total_skiable_area_ac</th>\n",
              "      <th>state_total_days_open</th>\n",
              "      <th>state_total_terrain_parks</th>\n",
              "      <th>state_total_nightskiing_ac</th>\n",
              "      <th>resorts_per_100kcapita</th>\n",
              "      <th>resorts_per_100ksq_mile</th>\n",
              "    </tr>\n",
              "    <tr>\n",
              "      <th>state</th>\n",
              "      <th></th>\n",
              "      <th></th>\n",
              "      <th></th>\n",
              "      <th></th>\n",
              "      <th></th>\n",
              "      <th></th>\n",
              "      <th></th>\n",
              "    </tr>\n",
              "  </thead>\n",
              "  <tbody>\n",
              "    <tr>\n",
              "      <th>Alaska</th>\n",
              "      <td>3</td>\n",
              "      <td>2280.0</td>\n",
              "      <td>345.0</td>\n",
              "      <td>4.0</td>\n",
              "      <td>580.0</td>\n",
              "      <td>0.410091</td>\n",
              "      <td>0.450867</td>\n",
              "    </tr>\n",
              "    <tr>\n",
              "      <th>Arizona</th>\n",
              "      <td>2</td>\n",
              "      <td>1577.0</td>\n",
              "      <td>237.0</td>\n",
              "      <td>6.0</td>\n",
              "      <td>80.0</td>\n",
              "      <td>0.027477</td>\n",
              "      <td>1.754540</td>\n",
              "    </tr>\n",
              "    <tr>\n",
              "      <th>California</th>\n",
              "      <td>21</td>\n",
              "      <td>25948.0</td>\n",
              "      <td>2738.0</td>\n",
              "      <td>81.0</td>\n",
              "      <td>587.0</td>\n",
              "      <td>0.053148</td>\n",
              "      <td>12.828736</td>\n",
              "    </tr>\n",
              "    <tr>\n",
              "      <th>Colorado</th>\n",
              "      <td>22</td>\n",
              "      <td>43682.0</td>\n",
              "      <td>3258.0</td>\n",
              "      <td>74.0</td>\n",
              "      <td>428.0</td>\n",
              "      <td>0.382028</td>\n",
              "      <td>21.134744</td>\n",
              "    </tr>\n",
              "    <tr>\n",
              "      <th>Connecticut</th>\n",
              "      <td>5</td>\n",
              "      <td>358.0</td>\n",
              "      <td>353.0</td>\n",
              "      <td>10.0</td>\n",
              "      <td>256.0</td>\n",
              "      <td>0.140242</td>\n",
              "      <td>90.203861</td>\n",
              "    </tr>\n",
              "  </tbody>\n",
              "</table>\n",
              "</div>"
            ],
            "text/plain": [
              "             resorts_per_state  ...  resorts_per_100ksq_mile\n",
              "state                           ...                         \n",
              "Alaska                       3  ...                 0.450867\n",
              "Arizona                      2  ...                 1.754540\n",
              "California                  21  ...                12.828736\n",
              "Colorado                    22  ...                21.134744\n",
              "Connecticut                  5  ...                90.203861\n",
              "\n",
              "[5 rows x 7 columns]"
            ]
          },
          "metadata": {
            "tags": []
          },
          "execution_count": 25
        }
      ]
    },
    {
      "cell_type": "markdown",
      "metadata": {
        "id": "QExYlvprs5kK"
      },
      "source": [
        "The above shows what we expect: the columns we want are all numeric and the state has been moved to the index. Although, it's not necessary to step through the sequence so laboriously, it is often good practice even for experienced professionals. It's easy to make a mistake or forget a step, or the data may have been holding out a surprise! Stepping through like this helps  validate both your work and the data!\n",
        "\n",
        "Now use `scale()` to scale the data."
      ]
    },
    {
      "cell_type": "code",
      "metadata": {
        "id": "9JIgudczs5kK"
      },
      "source": [
        "state_summary_scale = scale(state_summary_scale)\n"
      ],
      "execution_count": null,
      "outputs": []
    },
    {
      "cell_type": "code",
      "metadata": {
        "colab": {
          "base_uri": "https://localhost:8080/"
        },
        "id": "ttVSjivHrvi8",
        "outputId": "5922e4a3-1adb-438d-d711-1a76a9d339d8"
      },
      "source": [
        "state_summary_scale.shape"
      ],
      "execution_count": null,
      "outputs": [
        {
          "output_type": "execute_result",
          "data": {
            "text/plain": [
              "(35, 7)"
            ]
          },
          "metadata": {
            "tags": []
          },
          "execution_count": 27
        }
      ]
    },
    {
      "cell_type": "markdown",
      "metadata": {
        "id": "yhcBx4lcs5kK"
      },
      "source": [
        "Note, `scale()` returns an ndarray, so you lose the column names. Because you want to visualise scaled data, you already copied the column names. Now you can construct a dataframe from the ndarray here and reintroduce the column names."
      ]
    },
    {
      "cell_type": "code",
      "metadata": {
        "id": "ajePwtCAs5kK",
        "colab": {
          "base_uri": "https://localhost:8080/",
          "height": 204
        },
        "outputId": "ad778f48-34c1-4cbd-9f94-4f12a84cba0f"
      },
      "source": [
        "#Code task 2#\n",
        "#Create a new dataframe from `state_summary_scale` using the column names we saved in `state_summary_columns`\n",
        "state_summary_scaled_df = pd.DataFrame(state_summary_scale, columns= state_summary_columns)\n",
        "state_summary_scaled_df.head()"
      ],
      "execution_count": null,
      "outputs": [
        {
          "output_type": "execute_result",
          "data": {
            "text/html": [
              "<div>\n",
              "<style scoped>\n",
              "    .dataframe tbody tr th:only-of-type {\n",
              "        vertical-align: middle;\n",
              "    }\n",
              "\n",
              "    .dataframe tbody tr th {\n",
              "        vertical-align: top;\n",
              "    }\n",
              "\n",
              "    .dataframe thead th {\n",
              "        text-align: right;\n",
              "    }\n",
              "</style>\n",
              "<table border=\"1\" class=\"dataframe\">\n",
              "  <thead>\n",
              "    <tr style=\"text-align: right;\">\n",
              "      <th></th>\n",
              "      <th>resorts_per_state</th>\n",
              "      <th>state_total_skiable_area_ac</th>\n",
              "      <th>state_total_days_open</th>\n",
              "      <th>state_total_terrain_parks</th>\n",
              "      <th>state_total_nightskiing_ac</th>\n",
              "      <th>resorts_per_100kcapita</th>\n",
              "      <th>resorts_per_100ksq_mile</th>\n",
              "    </tr>\n",
              "  </thead>\n",
              "  <tbody>\n",
              "    <tr>\n",
              "      <th>0</th>\n",
              "      <td>-0.806912</td>\n",
              "      <td>-0.392012</td>\n",
              "      <td>-0.689059</td>\n",
              "      <td>-0.816118</td>\n",
              "      <td>0.069410</td>\n",
              "      <td>0.139593</td>\n",
              "      <td>-0.689999</td>\n",
              "    </tr>\n",
              "    <tr>\n",
              "      <th>1</th>\n",
              "      <td>-0.933558</td>\n",
              "      <td>-0.462424</td>\n",
              "      <td>-0.819038</td>\n",
              "      <td>-0.726994</td>\n",
              "      <td>-0.701326</td>\n",
              "      <td>-0.644706</td>\n",
              "      <td>-0.658125</td>\n",
              "    </tr>\n",
              "    <tr>\n",
              "      <th>2</th>\n",
              "      <td>1.472706</td>\n",
              "      <td>1.978574</td>\n",
              "      <td>2.190933</td>\n",
              "      <td>2.615141</td>\n",
              "      <td>0.080201</td>\n",
              "      <td>-0.592085</td>\n",
              "      <td>-0.387368</td>\n",
              "    </tr>\n",
              "    <tr>\n",
              "      <th>3</th>\n",
              "      <td>1.599351</td>\n",
              "      <td>3.754811</td>\n",
              "      <td>2.816757</td>\n",
              "      <td>2.303209</td>\n",
              "      <td>-0.164893</td>\n",
              "      <td>0.082069</td>\n",
              "      <td>-0.184291</td>\n",
              "    </tr>\n",
              "    <tr>\n",
              "      <th>4</th>\n",
              "      <td>-0.553622</td>\n",
              "      <td>-0.584519</td>\n",
              "      <td>-0.679431</td>\n",
              "      <td>-0.548747</td>\n",
              "      <td>-0.430027</td>\n",
              "      <td>-0.413557</td>\n",
              "      <td>1.504408</td>\n",
              "    </tr>\n",
              "  </tbody>\n",
              "</table>\n",
              "</div>"
            ],
            "text/plain": [
              "   resorts_per_state  ...  resorts_per_100ksq_mile\n",
              "0          -0.806912  ...                -0.689999\n",
              "1          -0.933558  ...                -0.658125\n",
              "2           1.472706  ...                -0.387368\n",
              "3           1.599351  ...                -0.184291\n",
              "4          -0.553622  ...                 1.504408\n",
              "\n",
              "[5 rows x 7 columns]"
            ]
          },
          "metadata": {
            "tags": []
          },
          "execution_count": 28
        }
      ]
    },
    {
      "cell_type": "markdown",
      "metadata": {
        "id": "nvY5ROeos5kK"
      },
      "source": [
        "##### 3.5.3.1.1 Verifying the scaling<a id='3.5.3.1.1_Verifying_the_scaling'></a>"
      ]
    },
    {
      "cell_type": "markdown",
      "metadata": {
        "id": "nbeKL68bs5kK"
      },
      "source": [
        "This is definitely going the extra mile for validating your steps, but provides a worthwhile lesson."
      ]
    },
    {
      "cell_type": "markdown",
      "metadata": {
        "id": "UBiJsqSEs5kK"
      },
      "source": [
        "First of all, check the mean of the scaled features using panda's `mean()` DataFrame method."
      ]
    },
    {
      "cell_type": "code",
      "metadata": {
        "id": "_qnPckLqs5kK",
        "colab": {
          "base_uri": "https://localhost:8080/"
        },
        "outputId": "2ce046ca-3bc9-495c-a06d-39e35b1811ed"
      },
      "source": [
        "#Code task 3#\n",
        "#Call `state_summary_scaled_df`'s `mean()` method\n",
        "state_summary_scaled_df.mean()"
      ],
      "execution_count": null,
      "outputs": [
        {
          "output_type": "execute_result",
          "data": {
            "text/plain": [
              "resorts_per_state             -6.344132e-17\n",
              "state_total_skiable_area_ac   -5.432163e-17\n",
              "state_total_days_open          9.754102e-17\n",
              "state_total_terrain_parks      4.282289e-17\n",
              "state_total_nightskiing_ac     6.344132e-17\n",
              "resorts_per_100kcapita         5.075305e-17\n",
              "resorts_per_100ksq_mile        5.075305e-17\n",
              "dtype: float64"
            ]
          },
          "metadata": {
            "tags": []
          },
          "execution_count": 29
        }
      ]
    },
    {
      "cell_type": "markdown",
      "metadata": {
        "id": "Hqsq28Oas5kK"
      },
      "source": [
        "This is pretty much zero!"
      ]
    },
    {
      "cell_type": "markdown",
      "metadata": {
        "id": "Ap-uylx3s5kK"
      },
      "source": [
        "Perform a similar check for the standard deviation using pandas's `std()` DataFrame method."
      ]
    },
    {
      "cell_type": "code",
      "metadata": {
        "id": "UZa8TdMts5kL",
        "colab": {
          "base_uri": "https://localhost:8080/"
        },
        "outputId": "7adff242-4d86-4671-9ecb-9d153cda8ff4"
      },
      "source": [
        "#Code task 4#\n",
        "#Call `state_summary_scaled_df`'s `std()` method\n",
        "state_summary_scaled_df.std()"
      ],
      "execution_count": null,
      "outputs": [
        {
          "output_type": "execute_result",
          "data": {
            "text/plain": [
              "resorts_per_state              1.014599\n",
              "state_total_skiable_area_ac    1.014599\n",
              "state_total_days_open          1.014599\n",
              "state_total_terrain_parks      1.014599\n",
              "state_total_nightskiing_ac     1.014599\n",
              "resorts_per_100kcapita         1.014599\n",
              "resorts_per_100ksq_mile        1.014599\n",
              "dtype: float64"
            ]
          },
          "metadata": {
            "tags": []
          },
          "execution_count": 30
        }
      ]
    },
    {
      "cell_type": "markdown",
      "metadata": {
        "id": "kQ5P8XnLs5kL"
      },
      "source": [
        "Well, this is a little embarrassing. The numbers should be closer to 1 than this! Check the documentation for [scale](https://scikit-learn.org/stable/modules/generated/sklearn.preprocessing.scale.html) to see if you used it right. What about [std](https://pandas.pydata.org/pandas-docs/stable/reference/api/pandas.DataFrame.std.html), did you mess up there? Is one of them not working right?\n",
        "\n",
        "The keen observer, who already has some familiarity with statistical inference and biased estimators, may have noticed what's happened here. `scale()` uses the biased estimator for standard deviation (ddof=0). This doesn't mean it's bad! It simply means it calculates the standard deviation of the sample it was given. The `std()` method, on the other hand, defaults to using ddof=1, that is it's normalized by N-1. In other words, the `std()` method default is to assume you want your best estimate of the population parameter based on the given sample. You can tell it to return the biased estimate instead:"
      ]
    },
    {
      "cell_type": "code",
      "metadata": {
        "id": "379fXfKLs5kL",
        "colab": {
          "base_uri": "https://localhost:8080/"
        },
        "outputId": "76eac185-2d86-4d00-a908-4e4582c1eb88"
      },
      "source": [
        "#Code task 5#\n",
        "#Repeat the previous call to `std()` but pass in ddof=0 \n",
        "state_summary_scaled_df.std(ddof=0)"
      ],
      "execution_count": null,
      "outputs": [
        {
          "output_type": "execute_result",
          "data": {
            "text/plain": [
              "resorts_per_state              1.0\n",
              "state_total_skiable_area_ac    1.0\n",
              "state_total_days_open          1.0\n",
              "state_total_terrain_parks      1.0\n",
              "state_total_nightskiing_ac     1.0\n",
              "resorts_per_100kcapita         1.0\n",
              "resorts_per_100ksq_mile        1.0\n",
              "dtype: float64"
            ]
          },
          "metadata": {
            "tags": []
          },
          "execution_count": 31
        }
      ]
    },
    {
      "cell_type": "markdown",
      "metadata": {
        "id": "GJoAYncws5kL"
      },
      "source": [
        "There! Now it agrees with `scale()` and our expectation. This just goes to show different routines to do ostensibly the same thing can have different behaviours. Good practice is to keep validating your work and checking the documentation!"
      ]
    },
    {
      "cell_type": "markdown",
      "metadata": {
        "id": "j1RG9QrDs5kL"
      },
      "source": [
        "#### 3.5.3.2 Calculate the PCA transformation<a id='3.5.3.2_Calculate_the_PCA_transformation'></a>"
      ]
    },
    {
      "cell_type": "markdown",
      "metadata": {
        "id": "aOvSOJk0s5kL"
      },
      "source": [
        "Fit the PCA transformation using the scaled data."
      ]
    },
    {
      "cell_type": "code",
      "metadata": {
        "id": "bkGNsKbJs5kL"
      },
      "source": [
        "state_pca = PCA().fit(state_summary_scale)"
      ],
      "execution_count": null,
      "outputs": []
    },
    {
      "cell_type": "markdown",
      "metadata": {
        "id": "8Nm-0iMqs5kL"
      },
      "source": [
        "Plot the cumulative variance ratio with number of components."
      ]
    },
    {
      "cell_type": "code",
      "metadata": {
        "id": "S2vUlldqs5kL",
        "colab": {
          "base_uri": "https://localhost:8080/",
          "height": 404
        },
        "outputId": "8fd162e6-e7b9-45d7-debe-fc3892f975ce"
      },
      "source": [
        "#Code task 6#\n",
        "#Call the `cumsum()` method on the 'explained_variance_ratio_' attribute of `state_pca` and\n",
        "#create a line plot to visualize the cumulative explained variance ratio with number of components\n",
        "#Set the xlabel to 'Component #', the ylabel to 'Cumulative ratio variance', and the\n",
        "#title to 'Cumulative variance ratio explained by PCA components for state/resort summary statistics'\n",
        "#Hint: remember the handy ';' at the end of the last plot call to suppress that untidy output\n",
        "plt.subplots(figsize=(10, 6))\n",
        "plt.plot(state_pca.explained_variance_ratio_.cumsum())\n",
        "plt.xlabel('Component #')\n",
        "plt.ylabel('Cumulative ratio variance')\n",
        "plt.title('Cumulative variance ratio explained by PCA components for state/resort summary statistics');"
      ],
      "execution_count": null,
      "outputs": [
        {
          "output_type": "display_data",
          "data": {
            "image/png": "[encoded data removed]",
            "text/plain": [
              "<Figure size 720x432 with 1 Axes>"
            ]
          },
          "metadata": {
            "tags": [],
            "needs_background": "light"
          }
        }
      ]
    },
    {
      "cell_type": "markdown",
      "metadata": {
        "id": "pbt3Coprs5kL"
      },
      "source": [
        "The first two components seem to account for over 75% of the variance, and the first four for over 95%."
      ]
    },
    {
      "cell_type": "markdown",
      "metadata": {
        "id": "EubgeVmOs5kL"
      },
      "source": [
        "**Note:** It is important to move quickly when performing exploratory data analysis. You should not spend hours trying to create publication-ready figures. However, it is crucially important that you can easily review and summarise the findings from EDA. Descriptive axis labels and titles are _extremely_ useful here. When you come to reread your notebook to summarise your findings, you will be thankful that you created descriptive plots and even made key observations in adjacent markdown cells."
      ]
    },
    {
      "cell_type": "markdown",
      "metadata": {
        "id": "BZfdN1c7s5kL"
      },
      "source": [
        "Apply the transformation to the data to obtain the derived features."
      ]
    },
    {
      "cell_type": "code",
      "metadata": {
        "id": "TNY8KLVOs5kL"
      },
      "source": [
        "#Code task 7#\n",
        "#Call `state_pca`'s `transform()` method, passing in `state_summary_scale` as its argument\n",
        "state_pca_x = state_pca.transform(state_summary_scale)"
      ],
      "execution_count": null,
      "outputs": []
    },
    {
      "cell_type": "code",
      "metadata": {
        "id": "nbw-pKras5kM",
        "colab": {
          "base_uri": "https://localhost:8080/"
        },
        "outputId": "86f57086-e5c0-44f6-f9a5-a64c0e1b8f33"
      },
      "source": [
        "state_pca_x.shape"
      ],
      "execution_count": null,
      "outputs": [
        {
          "output_type": "execute_result",
          "data": {
            "text/plain": [
              "(35, 7)"
            ]
          },
          "metadata": {
            "tags": []
          },
          "execution_count": 35
        }
      ]
    },
    {
      "cell_type": "markdown",
      "metadata": {
        "id": "srBKBRGPs5kM"
      },
      "source": [
        "Plot the first two derived features (the first two principle components) and label each point with the name of the state."
      ]
    },
    {
      "cell_type": "markdown",
      "metadata": {
        "id": "_fKGYnghs5kM"
      },
      "source": [
        "Take a moment to familiarize yourself with the code below. It will extract the first and second columns from the transformed data (`state_pca_x`) as x and y coordinates for plotting. Recall the state labels you saved (for this purpose) for subsequent calls to `plt.annotate`. Grab the second (index 1) value of the cumulative variance ratio to include in your descriptive title; this helpfully highlights the percentage variance explained\n",
        "by the two PCA components you're visualizing. Then create an appropriately sized and well-labelled scatterplot\n",
        "to convey all of this information."
      ]
    },
    {
      "cell_type": "code",
      "metadata": {
        "id": "g3oNCqqWs5kM",
        "colab": {
          "base_uri": "https://localhost:8080/",
          "height": 513
        },
        "outputId": "3f18a8ef-f0e6-4eab-eef5-b2a98ed3b982"
      },
      "source": [
        "x = state_pca_x[:, 0]\n",
        "y = state_pca_x[:, 1]\n",
        "state = state_summary_index\n",
        "pc_var = 100 * state_pca.explained_variance_ratio_.cumsum()[1]\n",
        "plt.subplots(figsize=(10,8))\n",
        "plt.scatter(x=x, y=y)\n",
        "plt.xlabel('First component')\n",
        "plt.ylabel('Second component')\n",
        "plt.title(f'Ski states summary PCA, {pc_var:.1f}% variance explained')\n",
        "for s, x, y in zip(state, x, y):\n",
        "    plt.annotate(s, (x, y))"
      ],
      "execution_count": null,
      "outputs": [
        {
          "output_type": "display_data",
          "data": {
            "image/png": "[encoded data removed]",
            "text/plain": [
              "<Figure size 720x576 with 1 Axes>"
            ]
          },
          "metadata": {
            "tags": [],
            "needs_background": "light"
          }
        }
      ]
    },
    {
      "cell_type": "markdown",
      "metadata": {
        "id": "LotZkWRgs5kM"
      },
      "source": [
        "#### 3.5.3.3 Average ticket price by state<a id='3.5.3.3_Average_ticket_price_by_state'></a>"
      ]
    },
    {
      "cell_type": "markdown",
      "metadata": {
        "id": "prPxCHNXs5kM"
      },
      "source": [
        "Here, all point markers for the states are the same size and colour. You've visualized relationships between the states based on features such as the total skiable terrain area, but your ultimate interest lies in ticket prices. You know ticket prices for resorts in each state, so it might be interesting to see if there's any pattern there."
      ]
    },
    {
      "cell_type": "code",
      "metadata": {
        "id": "c2VNiix5s5kM",
        "colab": {
          "base_uri": "https://localhost:8080/"
        },
        "outputId": "7febb933-e088-41e9-c7b3-be441bf25219"
      },
      "source": [
        "#Code task 8#\n",
        "#Calculate the average 'AdultWeekend' ticket price by state\n",
        "state_avg_price = ski_data.groupby('state')['AdultWeekend'].mean()\n",
        "state_avg_price.head()"
      ],
      "execution_count": null,
      "outputs": [
        {
          "output_type": "execute_result",
          "data": {
            "text/plain": [
              "state\n",
              "Alaska         57.333333\n",
              "Arizona        83.500000\n",
              "California     81.416667\n",
              "Colorado       90.714286\n",
              "Connecticut    56.800000\n",
              "Name: AdultWeekend, dtype: float64"
            ]
          },
          "metadata": {
            "tags": []
          },
          "execution_count": 37
        }
      ]
    },
    {
      "cell_type": "code",
      "metadata": {
        "id": "JoHhnGTgs5kM",
        "colab": {
          "base_uri": "https://localhost:8080/",
          "height": 295
        },
        "outputId": "62a45526-c1a3-4b43-a241-86b7d13eb717"
      },
      "source": [
        "state_avg_price.hist(bins=30)\n",
        "plt.title('Distribution of state averaged prices')\n",
        "plt.xlabel('Mean state adult weekend ticket price')\n",
        "plt.ylabel('count');"
      ],
      "execution_count": null,
      "outputs": [
        {
          "output_type": "display_data",
          "data": {
            "image/png": "[encoded data removed]",
            "text/plain": [
              "<Figure size 432x288 with 1 Axes>"
            ]
          },
          "metadata": {
            "tags": [],
            "needs_background": "light"
          }
        }
      ]
    },
    {
      "cell_type": "markdown",
      "metadata": {
        "id": "e1WtThXfs5kM"
      },
      "source": [
        "#### 3.5.3.4 Adding average ticket price to scatter plot<a id='3.5.3.4_Adding_average_ticket_price_to_scatter_plot'></a>"
      ]
    },
    {
      "cell_type": "markdown",
      "metadata": {
        "id": "aWGAbnfds5kM"
      },
      "source": [
        "At this point you have several objects floating around. You have just calculated average ticket price by state from our ski resort data, but you've been looking at principle components generated from other state summary data. We extracted indexes and column names from a dataframe and the first two principle components from an array. It's becoming a bit hard to keep track of them all. You'll create a new DataFrame to do this."
      ]
    },
    {
      "cell_type": "code",
      "metadata": {
        "id": "7ZPYk2UJs5kN",
        "colab": {
          "base_uri": "https://localhost:8080/",
          "height": 235
        },
        "outputId": "f9ad9fd8-1641-4528-a412-fc822d80af24"
      },
      "source": [
        "#Code task 9#\n",
        "#Create a dataframe containing the values of the first two PCA components\n",
        "#Remember the first component was given by state_pca_x[:, 0],\n",
        "#and the second by state_pca_x[:, 1]\n",
        "#Call these 'PC1' and 'PC2', respectively and set the dataframe index to `state_summary_index`\n",
        "pca_df = pd.DataFrame({'PC1':state_pca_x[:, 0], 'PC2': state_pca_x[:, 1]}, index= state_summary_index)\n",
        "pca_df.head()"
      ],
      "execution_count": null,
      "outputs": [
        {
          "output_type": "execute_result",
          "data": {
            "text/html": [
              "<div>\n",
              "<style scoped>\n",
              "    .dataframe tbody tr th:only-of-type {\n",
              "        vertical-align: middle;\n",
              "    }\n",
              "\n",
              "    .dataframe tbody tr th {\n",
              "        vertical-align: top;\n",
              "    }\n",
              "\n",
              "    .dataframe thead th {\n",
              "        text-align: right;\n",
              "    }\n",
              "</style>\n",
              "<table border=\"1\" class=\"dataframe\">\n",
              "  <thead>\n",
              "    <tr style=\"text-align: right;\">\n",
              "      <th></th>\n",
              "      <th>PC1</th>\n",
              "      <th>PC2</th>\n",
              "    </tr>\n",
              "    <tr>\n",
              "      <th>state</th>\n",
              "      <th></th>\n",
              "      <th></th>\n",
              "    </tr>\n",
              "  </thead>\n",
              "  <tbody>\n",
              "    <tr>\n",
              "      <th>Alaska</th>\n",
              "      <td>-1.336533</td>\n",
              "      <td>-0.182208</td>\n",
              "    </tr>\n",
              "    <tr>\n",
              "      <th>Arizona</th>\n",
              "      <td>-1.839049</td>\n",
              "      <td>-0.387959</td>\n",
              "    </tr>\n",
              "    <tr>\n",
              "      <th>California</th>\n",
              "      <td>3.537857</td>\n",
              "      <td>-1.282509</td>\n",
              "    </tr>\n",
              "    <tr>\n",
              "      <th>Colorado</th>\n",
              "      <td>4.402210</td>\n",
              "      <td>-0.898855</td>\n",
              "    </tr>\n",
              "    <tr>\n",
              "      <th>Connecticut</th>\n",
              "      <td>-0.988027</td>\n",
              "      <td>1.020218</td>\n",
              "    </tr>\n",
              "  </tbody>\n",
              "</table>\n",
              "</div>"
            ],
            "text/plain": [
              "                  PC1       PC2\n",
              "state                          \n",
              "Alaska      -1.336533 -0.182208\n",
              "Arizona     -1.839049 -0.387959\n",
              "California   3.537857 -1.282509\n",
              "Colorado     4.402210 -0.898855\n",
              "Connecticut -0.988027  1.020218"
            ]
          },
          "metadata": {
            "tags": []
          },
          "execution_count": 39
        }
      ]
    },
    {
      "cell_type": "markdown",
      "metadata": {
        "id": "muO9FKlWs5kN"
      },
      "source": [
        "That worked, and you have state as an index."
      ]
    },
    {
      "cell_type": "code",
      "metadata": {
        "id": "N1aoJELTs5kN",
        "colab": {
          "base_uri": "https://localhost:8080/"
        },
        "outputId": "ad487623-9280-46e3-92e6-ba6fc1967347"
      },
      "source": [
        "# our average state prices also have state as an index\n",
        "state_avg_price.head()"
      ],
      "execution_count": null,
      "outputs": [
        {
          "output_type": "execute_result",
          "data": {
            "text/plain": [
              "state\n",
              "Alaska         57.333333\n",
              "Arizona        83.500000\n",
              "California     81.416667\n",
              "Colorado       90.714286\n",
              "Connecticut    56.800000\n",
              "Name: AdultWeekend, dtype: float64"
            ]
          },
          "metadata": {
            "tags": []
          },
          "execution_count": 40
        }
      ]
    },
    {
      "cell_type": "code",
      "metadata": {
        "id": "9LSyiTq8s5kN",
        "colab": {
          "base_uri": "https://localhost:8080/",
          "height": 235
        },
        "outputId": "d71fdc95-5ec1-4a50-acc6-2f8996961966"
      },
      "source": [
        "# we can also cast it to a dataframe using Series' to_frame() method:\n",
        "state_avg_price.to_frame().head()"
      ],
      "execution_count": null,
      "outputs": [
        {
          "output_type": "execute_result",
          "data": {
            "text/html": [
              "<div>\n",
              "<style scoped>\n",
              "    .dataframe tbody tr th:only-of-type {\n",
              "        vertical-align: middle;\n",
              "    }\n",
              "\n",
              "    .dataframe tbody tr th {\n",
              "        vertical-align: top;\n",
              "    }\n",
              "\n",
              "    .dataframe thead th {\n",
              "        text-align: right;\n",
              "    }\n",
              "</style>\n",
              "<table border=\"1\" class=\"dataframe\">\n",
              "  <thead>\n",
              "    <tr style=\"text-align: right;\">\n",
              "      <th></th>\n",
              "      <th>AdultWeekend</th>\n",
              "    </tr>\n",
              "    <tr>\n",
              "      <th>state</th>\n",
              "      <th></th>\n",
              "    </tr>\n",
              "  </thead>\n",
              "  <tbody>\n",
              "    <tr>\n",
              "      <th>Alaska</th>\n",
              "      <td>57.333333</td>\n",
              "    </tr>\n",
              "    <tr>\n",
              "      <th>Arizona</th>\n",
              "      <td>83.500000</td>\n",
              "    </tr>\n",
              "    <tr>\n",
              "      <th>California</th>\n",
              "      <td>81.416667</td>\n",
              "    </tr>\n",
              "    <tr>\n",
              "      <th>Colorado</th>\n",
              "      <td>90.714286</td>\n",
              "    </tr>\n",
              "    <tr>\n",
              "      <th>Connecticut</th>\n",
              "      <td>56.800000</td>\n",
              "    </tr>\n",
              "  </tbody>\n",
              "</table>\n",
              "</div>"
            ],
            "text/plain": [
              "             AdultWeekend\n",
              "state                    \n",
              "Alaska          57.333333\n",
              "Arizona         83.500000\n",
              "California      81.416667\n",
              "Colorado        90.714286\n",
              "Connecticut     56.800000"
            ]
          },
          "metadata": {
            "tags": []
          },
          "execution_count": 41
        }
      ]
    },
    {
      "cell_type": "markdown",
      "metadata": {
        "id": "NLmoRKbXs5kN"
      },
      "source": [
        "Now you can concatenate both parts on axis 1 and using the indexes."
      ]
    },
    {
      "cell_type": "code",
      "metadata": {
        "id": "A-2dppMFs5kN",
        "colab": {
          "base_uri": "https://localhost:8080/",
          "height": 204
        },
        "outputId": "18fe2fb8-c2ea-4c88-8c0f-1153773f5e2d"
      },
      "source": [
        "#Code task 10#\n",
        "#Use pd.concat to concatenate `pca_df` and `state_avg_price` along axis 1\n",
        "# remember, pd.concat will align on index\n",
        "pca_df = pd.concat([pca_df, state_avg_price], axis= 1)\n",
        "pca_df.head()"
      ],
      "execution_count": null,
      "outputs": [
        {
          "output_type": "execute_result",
          "data": {
            "text/html": [
              "<div>\n",
              "<style scoped>\n",
              "    .dataframe tbody tr th:only-of-type {\n",
              "        vertical-align: middle;\n",
              "    }\n",
              "\n",
              "    .dataframe tbody tr th {\n",
              "        vertical-align: top;\n",
              "    }\n",
              "\n",
              "    .dataframe thead th {\n",
              "        text-align: right;\n",
              "    }\n",
              "</style>\n",
              "<table border=\"1\" class=\"dataframe\">\n",
              "  <thead>\n",
              "    <tr style=\"text-align: right;\">\n",
              "      <th></th>\n",
              "      <th>PC1</th>\n",
              "      <th>PC2</th>\n",
              "      <th>AdultWeekend</th>\n",
              "    </tr>\n",
              "  </thead>\n",
              "  <tbody>\n",
              "    <tr>\n",
              "      <th>Alaska</th>\n",
              "      <td>-1.336533</td>\n",
              "      <td>-0.182208</td>\n",
              "      <td>57.333333</td>\n",
              "    </tr>\n",
              "    <tr>\n",
              "      <th>Arizona</th>\n",
              "      <td>-1.839049</td>\n",
              "      <td>-0.387959</td>\n",
              "      <td>83.500000</td>\n",
              "    </tr>\n",
              "    <tr>\n",
              "      <th>California</th>\n",
              "      <td>3.537857</td>\n",
              "      <td>-1.282509</td>\n",
              "      <td>81.416667</td>\n",
              "    </tr>\n",
              "    <tr>\n",
              "      <th>Colorado</th>\n",
              "      <td>4.402210</td>\n",
              "      <td>-0.898855</td>\n",
              "      <td>90.714286</td>\n",
              "    </tr>\n",
              "    <tr>\n",
              "      <th>Connecticut</th>\n",
              "      <td>-0.988027</td>\n",
              "      <td>1.020218</td>\n",
              "      <td>56.800000</td>\n",
              "    </tr>\n",
              "  </tbody>\n",
              "</table>\n",
              "</div>"
            ],
            "text/plain": [
              "                  PC1       PC2  AdultWeekend\n",
              "Alaska      -1.336533 -0.182208     57.333333\n",
              "Arizona     -1.839049 -0.387959     83.500000\n",
              "California   3.537857 -1.282509     81.416667\n",
              "Colorado     4.402210 -0.898855     90.714286\n",
              "Connecticut -0.988027  1.020218     56.800000"
            ]
          },
          "metadata": {
            "tags": []
          },
          "execution_count": 42
        }
      ]
    },
    {
      "cell_type": "markdown",
      "metadata": {
        "id": "rIRcfd-rs5kN"
      },
      "source": [
        "You saw some range in average ticket price histogram above, but it may be hard to pick out differences if you're thinking of using the value for point size. You'll add another column where you seperate these prices into quartiles; that might show something."
      ]
    },
    {
      "cell_type": "code",
      "metadata": {
        "id": "h_9R3bObs5kN",
        "colab": {
          "base_uri": "https://localhost:8080/",
          "height": 204
        },
        "outputId": "9e7e40d1-f61b-4761-cd5e-bd734c5c5a63"
      },
      "source": [
        "pca_df['Quartile'] = pd.qcut(pca_df.AdultWeekend, q=4, precision=1)\n",
        "pca_df.head()"
      ],
      "execution_count": null,
      "outputs": [
        {
          "output_type": "execute_result",
          "data": {
            "text/html": [
              "<div>\n",
              "<style scoped>\n",
              "    .dataframe tbody tr th:only-of-type {\n",
              "        vertical-align: middle;\n",
              "    }\n",
              "\n",
              "    .dataframe tbody tr th {\n",
              "        vertical-align: top;\n",
              "    }\n",
              "\n",
              "    .dataframe thead th {\n",
              "        text-align: right;\n",
              "    }\n",
              "</style>\n",
              "<table border=\"1\" class=\"dataframe\">\n",
              "  <thead>\n",
              "    <tr style=\"text-align: right;\">\n",
              "      <th></th>\n",
              "      <th>PC1</th>\n",
              "      <th>PC2</th>\n",
              "      <th>AdultWeekend</th>\n",
              "      <th>Quartile</th>\n",
              "    </tr>\n",
              "  </thead>\n",
              "  <tbody>\n",
              "    <tr>\n",
              "      <th>Alaska</th>\n",
              "      <td>-1.336533</td>\n",
              "      <td>-0.182208</td>\n",
              "      <td>57.333333</td>\n",
              "      <td>(53.1, 60.4]</td>\n",
              "    </tr>\n",
              "    <tr>\n",
              "      <th>Arizona</th>\n",
              "      <td>-1.839049</td>\n",
              "      <td>-0.387959</td>\n",
              "      <td>83.500000</td>\n",
              "      <td>(78.4, 93.0]</td>\n",
              "    </tr>\n",
              "    <tr>\n",
              "      <th>California</th>\n",
              "      <td>3.537857</td>\n",
              "      <td>-1.282509</td>\n",
              "      <td>81.416667</td>\n",
              "      <td>(78.4, 93.0]</td>\n",
              "    </tr>\n",
              "    <tr>\n",
              "      <th>Colorado</th>\n",
              "      <td>4.402210</td>\n",
              "      <td>-0.898855</td>\n",
              "      <td>90.714286</td>\n",
              "      <td>(78.4, 93.0]</td>\n",
              "    </tr>\n",
              "    <tr>\n",
              "      <th>Connecticut</th>\n",
              "      <td>-0.988027</td>\n",
              "      <td>1.020218</td>\n",
              "      <td>56.800000</td>\n",
              "      <td>(53.1, 60.4]</td>\n",
              "    </tr>\n",
              "  </tbody>\n",
              "</table>\n",
              "</div>"
            ],
            "text/plain": [
              "                  PC1       PC2  AdultWeekend      Quartile\n",
              "Alaska      -1.336533 -0.182208     57.333333  (53.1, 60.4]\n",
              "Arizona     -1.839049 -0.387959     83.500000  (78.4, 93.0]\n",
              "California   3.537857 -1.282509     81.416667  (78.4, 93.0]\n",
              "Colorado     4.402210 -0.898855     90.714286  (78.4, 93.0]\n",
              "Connecticut -0.988027  1.020218     56.800000  (53.1, 60.4]"
            ]
          },
          "metadata": {
            "tags": []
          },
          "execution_count": 43
        }
      ]
    },
    {
      "cell_type": "code",
      "metadata": {
        "id": "eDZbP8H7s5kN",
        "colab": {
          "base_uri": "https://localhost:8080/"
        },
        "outputId": "34aab6e9-6826-49e9-ca17-66965a64b006"
      },
      "source": [
        "# Note that Quartile is a new data type: category\n",
        "# This will affect how we handle it later on\n",
        "pca_df.dtypes"
      ],
      "execution_count": null,
      "outputs": [
        {
          "output_type": "execute_result",
          "data": {
            "text/plain": [
              "PC1              float64\n",
              "PC2              float64\n",
              "AdultWeekend     float64\n",
              "Quartile        category\n",
              "dtype: object"
            ]
          },
          "metadata": {
            "tags": []
          },
          "execution_count": 44
        }
      ]
    },
    {
      "cell_type": "markdown",
      "metadata": {
        "id": "mQt-p_FIs5kO"
      },
      "source": [
        "This looks great. But, let's have a healthy paranoia about it. You've just created a whole new DataFrame by combining information. Do we have any missing values? It's a narrow DataFrame, only four columns, so you'll just print out any rows that have any null values, expecting an empty DataFrame."
      ]
    },
    {
      "cell_type": "code",
      "metadata": {
        "id": "TkPACAzus5kO",
        "colab": {
          "base_uri": "https://localhost:8080/",
          "height": 80
        },
        "outputId": "24aabfc8-a1a8-4096-bcf5-ff0b3175cf76"
      },
      "source": [
        "pca_df[pca_df.isnull().any(axis=1)]"
      ],
      "execution_count": null,
      "outputs": [
        {
          "output_type": "execute_result",
          "data": {
            "text/html": [
              "<div>\n",
              "<style scoped>\n",
              "    .dataframe tbody tr th:only-of-type {\n",
              "        vertical-align: middle;\n",
              "    }\n",
              "\n",
              "    .dataframe tbody tr th {\n",
              "        vertical-align: top;\n",
              "    }\n",
              "\n",
              "    .dataframe thead th {\n",
              "        text-align: right;\n",
              "    }\n",
              "</style>\n",
              "<table border=\"1\" class=\"dataframe\">\n",
              "  <thead>\n",
              "    <tr style=\"text-align: right;\">\n",
              "      <th></th>\n",
              "      <th>PC1</th>\n",
              "      <th>PC2</th>\n",
              "      <th>AdultWeekend</th>\n",
              "      <th>Quartile</th>\n",
              "    </tr>\n",
              "  </thead>\n",
              "  <tbody>\n",
              "    <tr>\n",
              "      <th>Rhode Island</th>\n",
              "      <td>-1.843646</td>\n",
              "      <td>0.761339</td>\n",
              "      <td>NaN</td>\n",
              "      <td>NaN</td>\n",
              "    </tr>\n",
              "  </tbody>\n",
              "</table>\n",
              "</div>"
            ],
            "text/plain": [
              "                   PC1       PC2  AdultWeekend Quartile\n",
              "Rhode Island -1.843646  0.761339           NaN      NaN"
            ]
          },
          "metadata": {
            "tags": []
          },
          "execution_count": 45
        }
      ]
    },
    {
      "cell_type": "markdown",
      "metadata": {
        "id": "Mcv3BxROs5kO"
      },
      "source": [
        "Ah, Rhode Island. How has this happened? Recall you created the original ski resort state summary dataset in the previous step before removing resorts with missing prices. This made sense because you wanted to capture all the other available information. However, Rhode Island only had one resort and its price was missing. You have two choices here. If you're interested in looking for any pattern with price, drop this row. But you are also generally interested in any clusters or trends, then you'd like to see Rhode Island even if the ticket price is unknown. So, replace these missing values to make it easier to handle/display them."
      ]
    },
    {
      "cell_type": "markdown",
      "metadata": {
        "id": "bncAGNx4s5kO"
      },
      "source": [
        "Because `Quartile` is a category type, there's an extra step here. Add the category (the string 'NA') that you're going to use as a replacement."
      ]
    },
    {
      "cell_type": "code",
      "metadata": {
        "id": "eq1Fj0Ans5kO",
        "colab": {
          "base_uri": "https://localhost:8080/"
        },
        "outputId": "1fa81250-5712-495c-e81f-5bf64db5e81c"
      },
      "source": [
        "pca_df['AdultWeekend'].fillna(pca_df.AdultWeekend.mean(), inplace=True)\n",
        "pca_df['Quartile'] = pca_df['Quartile'].cat.add_categories('NA')\n",
        "pca_df['Quartile'].fillna('NA', inplace=True)\n",
        "pca_df.loc['Rhode Island']"
      ],
      "execution_count": null,
      "outputs": [
        {
          "output_type": "execute_result",
          "data": {
            "text/plain": [
              "PC1             -1.84365\n",
              "PC2             0.761339\n",
              "AdultWeekend     64.1244\n",
              "Quartile              NA\n",
              "Name: Rhode Island, dtype: object"
            ]
          },
          "metadata": {
            "tags": []
          },
          "execution_count": 46
        }
      ]
    },
    {
      "cell_type": "markdown",
      "metadata": {
        "id": "aQZQ3qrNs5kO"
      },
      "source": [
        "Note, in the above Quartile has the string value 'NA' that you inserted. This is different to `numpy`'s NaN type.\n",
        "\n",
        "You now have enough information to recreate the scatterplot, now adding marker size for ticket price and colour for the discrete quartile."
      ]
    },
    {
      "cell_type": "markdown",
      "metadata": {
        "id": "65Pesv8ss5kO"
      },
      "source": [
        "Notice in the code below how you're iterating over each quartile and plotting the points in the same quartile group as one. This gives a list of quartiles for an informative legend with points coloured by quartile and sized by ticket price (higher prices are represented by larger point markers)."
      ]
    },
    {
      "cell_type": "code",
      "metadata": {
        "id": "ftN-lnuMs5kO",
        "colab": {
          "base_uri": "https://localhost:8080/",
          "height": 513
        },
        "outputId": "f06e904c-e127-4101-dab8-cd1bc77ede9c"
      },
      "source": [
        "x = pca_df.PC1\n",
        "y = pca_df.PC2\n",
        "price = pca_df.AdultWeekend\n",
        "quartiles = pca_df.Quartile\n",
        "state = pca_df.index\n",
        "pc_var = 100 * state_pca.explained_variance_ratio_.cumsum()[1]\n",
        "fig, ax = plt.subplots(figsize=(10,8))\n",
        "for q in quartiles.cat.categories:\n",
        "    im = quartiles == q\n",
        "    ax.scatter(x=x[im], y=y[im], s=price[im], label=q)\n",
        "ax.set_xlabel('First component')\n",
        "ax.set_ylabel('Second component')\n",
        "plt.legend()\n",
        "ax.set_title(f'Ski states summary PCA, {pc_var:.1f}% variance explained')\n",
        "for s, x, y in zip(state, x, y):\n",
        "    plt.annotate(s, (x, y))"
      ],
      "execution_count": null,
      "outputs": [
        {
          "output_type": "display_data",
          "data": {
            "image/png": "[encoded data removed]",
            "text/plain": [
              "<Figure size 720x576 with 1 Axes>"
            ]
          },
          "metadata": {
            "tags": [],
            "needs_background": "light"
          }
        }
      ]
    },
    {
      "cell_type": "markdown",
      "metadata": {
        "id": "UmCUbZO9s5kO"
      },
      "source": [
        "Now, you see the same distribution of states as before, but with additional information about the average price. There isn't an obvious pattern. The red points representing the upper quartile of price can be seen to the left, the right, and up top. There's also a spread of the other quartiles as well. In this representation of the ski summaries for each state, which accounts for some 77% of the variance, you simply do not seeing a pattern with price."
      ]
    },
    {
      "cell_type": "markdown",
      "metadata": {
        "id": "jvefIeD0s5kO"
      },
      "source": [
        "The above scatterplot was created using matplotlib. This is powerful, but took quite a bit of effort to set up. You have to iterate over the categories, plotting each separately, to get a colour legend. You can also tell that the points in the legend have different sizes as well as colours. As it happens, the size and the colour will be a 1:1 mapping here, so it happily works for us here. If we were using size and colour to display fundamentally different aesthetics, you'd have a lot more work to do. So matplotlib is powerful, but not ideally suited to when we want to visually explore multiple features as here (and intelligent use of colour, point size, and even shape can be incredibly useful for EDA).\n",
        "\n",
        "Fortunately, there's another option: seaborn. You saw seaborn in action in the previous notebook, when you wanted to distinguish between weekend and weekday ticket prices in the boxplot. After melting the dataframe to have ticket price as a single column with the ticket type represented in a new column, you asked seaborn to create separate boxes for each type."
      ]
    },
    {
      "cell_type": "code",
      "metadata": {
        "id": "h-DzljIEs5kP",
        "colab": {
          "base_uri": "https://localhost:8080/",
          "height": 621
        },
        "outputId": "d8d8d5e4-b122-49aa-cf6b-934b3496393a"
      },
      "source": [
        "#Code task 11#\n",
        "#Create a seaborn scatterplot by calling `sns.scatterplot`\n",
        "#Specify the dataframe pca_df as the source of the data,\n",
        "#specify 'PC1' for x and 'PC2' for y,\n",
        "#specify 'AdultWeekend' for the pointsize (scatterplot's `size` argument),\n",
        "#specify 'Quartile' for `hue`\n",
        "#specify pca_df.Quartile.cat.categories for `hue_order` - what happens with/without this?\n",
        "x = pca_df.PC1\n",
        "y = pca_df.PC2\n",
        "state = pca_df.index\n",
        "plt.subplots(figsize=(12, 10))\n",
        "# Note the argument below to make sure we get the colours in the ascending\n",
        "# order we intuitively expect!\n",
        "sns.scatterplot(x= 'PC1', y= 'PC2', size='AdultWeekend', hue='Quartile', \n",
        "                hue_order=pca_df.Quartile.cat.categories, data=pca_df)\n",
        "#and we can still annotate with the state labels\n",
        "for s, x, y in zip(state, x, y):\n",
        "    plt.annotate(s, (x, y))   \n",
        "plt.title(f'Ski states summary PCA, {pc_var:.1f}% variance explained');"
      ],
      "execution_count": null,
      "outputs": [
        {
          "output_type": "display_data",
          "data": {
            "image/png": "[encoded data removed]",
            "text/plain": [
              "<Figure size 864x720 with 1 Axes>"
            ]
          },
          "metadata": {
            "tags": [],
            "needs_background": "light"
          }
        }
      ]
    },
    {
      "cell_type": "markdown",
      "metadata": {
        "id": "mTk-q6B7s5kP"
      },
      "source": [
        "Seaborn does more! You should always care about your output. What if you want the ordering of the colours in the legend to align intuitively with the ordering of the quartiles? Add a `hue_order` argument! Seaborn has thrown in a few nice other things:\n",
        "\n",
        "* the aesthetics are separated in the legend\n",
        "* it defaults to marker sizes that provide more contrast (smaller to larger)\n",
        "* when starting with a DataFrame, you have less work to do to visualize patterns in the data\n",
        "\n",
        "The last point is important. Less work means less chance of mixing up objects and jumping to erroneous conclusions. This also emphasizes the importance of getting data into a suitable DataFrame. In the previous notebook, you `melt`ed the data to make it longer, but with fewer columns, in order to get a single column of price with a new column representing a categorical feature you'd want to use. A **key skill** is being able to wrangle data into a form most suited to the particular use case."
      ]
    },
    {
      "cell_type": "markdown",
      "metadata": {
        "id": "VhgHsrp_s5kP"
      },
      "source": [
        "Having gained a good visualization of the state summary data, you can discuss and follow up on your findings."
      ]
    },
    {
      "cell_type": "markdown",
      "metadata": {
        "id": "6_bU7Nqls5kP"
      },
      "source": [
        "In the first two components, there is a spread of states across the first component. It looks like Vermont and New Hampshire might be off on their own a little in the second dimension, although they're really no more extreme than New York and Colorado are in the first dimension. But if you were curious, could you get an idea what it is that pushes Vermont and New Hampshire up?\n",
        "\n",
        "The `components_` attribute of the fitted PCA object tell us how important (and in what direction) each feature contributes to each score (or coordinate on the plot). **NB we were sensible and scaled our original features (to zero mean and unit variance)**. You may not always be interested in interpreting the coefficients of the PCA transformation in this way, although it's more likely you will when using PCA for EDA as opposed to a preprocessing step as part of a machine learning pipeline. The attribute is actually a numpy ndarray, and so has been stripped of helpful index and column names. Fortunately, you thought ahead and saved these. This is how we were able to annotate the scatter plots above. It also means you can construct a DataFrame of `components_` with the feature names for context:"
      ]
    },
    {
      "cell_type": "code",
      "metadata": {
        "id": "xPufjFQts5kP",
        "colab": {
          "base_uri": "https://localhost:8080/",
          "height": 266
        },
        "outputId": "75c700bd-e1be-4f33-f185-f00afe219dd3"
      },
      "source": [
        "pd.DataFrame(state_pca.components_, columns=state_summary_columns)"
      ],
      "execution_count": null,
      "outputs": [
        {
          "output_type": "execute_result",
          "data": {
            "text/html": [
              "<div>\n",
              "<style scoped>\n",
              "    .dataframe tbody tr th:only-of-type {\n",
              "        vertical-align: middle;\n",
              "    }\n",
              "\n",
              "    .dataframe tbody tr th {\n",
              "        vertical-align: top;\n",
              "    }\n",
              "\n",
              "    .dataframe thead th {\n",
              "        text-align: right;\n",
              "    }\n",
              "</style>\n",
              "<table border=\"1\" class=\"dataframe\">\n",
              "  <thead>\n",
              "    <tr style=\"text-align: right;\">\n",
              "      <th></th>\n",
              "      <th>resorts_per_state</th>\n",
              "      <th>state_total_skiable_area_ac</th>\n",
              "      <th>state_total_days_open</th>\n",
              "      <th>state_total_terrain_parks</th>\n",
              "      <th>state_total_nightskiing_ac</th>\n",
              "      <th>resorts_per_100kcapita</th>\n",
              "      <th>resorts_per_100ksq_mile</th>\n",
              "    </tr>\n",
              "  </thead>\n",
              "  <tbody>\n",
              "    <tr>\n",
              "      <th>0</th>\n",
              "      <td>0.486079</td>\n",
              "      <td>0.318224</td>\n",
              "      <td>0.489997</td>\n",
              "      <td>0.488420</td>\n",
              "      <td>0.334398</td>\n",
              "      <td>0.187154</td>\n",
              "      <td>0.192250</td>\n",
              "    </tr>\n",
              "    <tr>\n",
              "      <th>1</th>\n",
              "      <td>-0.085092</td>\n",
              "      <td>-0.142204</td>\n",
              "      <td>-0.045071</td>\n",
              "      <td>-0.041939</td>\n",
              "      <td>-0.351064</td>\n",
              "      <td>0.662458</td>\n",
              "      <td>0.637691</td>\n",
              "    </tr>\n",
              "    <tr>\n",
              "      <th>2</th>\n",
              "      <td>-0.177937</td>\n",
              "      <td>0.714835</td>\n",
              "      <td>0.115200</td>\n",
              "      <td>0.005509</td>\n",
              "      <td>-0.511255</td>\n",
              "      <td>0.220359</td>\n",
              "      <td>-0.366207</td>\n",
              "    </tr>\n",
              "    <tr>\n",
              "      <th>3</th>\n",
              "      <td>0.056163</td>\n",
              "      <td>-0.118347</td>\n",
              "      <td>-0.162625</td>\n",
              "      <td>-0.177072</td>\n",
              "      <td>0.438912</td>\n",
              "      <td>0.685417</td>\n",
              "      <td>-0.512443</td>\n",
              "    </tr>\n",
              "    <tr>\n",
              "      <th>4</th>\n",
              "      <td>-0.209186</td>\n",
              "      <td>0.573462</td>\n",
              "      <td>-0.250521</td>\n",
              "      <td>-0.388608</td>\n",
              "      <td>0.499801</td>\n",
              "      <td>-0.065077</td>\n",
              "      <td>0.399461</td>\n",
              "    </tr>\n",
              "    <tr>\n",
              "      <th>5</th>\n",
              "      <td>-0.818390</td>\n",
              "      <td>-0.092319</td>\n",
              "      <td>0.238198</td>\n",
              "      <td>0.448118</td>\n",
              "      <td>0.246196</td>\n",
              "      <td>0.058911</td>\n",
              "      <td>-0.009146</td>\n",
              "    </tr>\n",
              "    <tr>\n",
              "      <th>6</th>\n",
              "      <td>-0.090273</td>\n",
              "      <td>-0.127021</td>\n",
              "      <td>0.773728</td>\n",
              "      <td>-0.613576</td>\n",
              "      <td>0.022185</td>\n",
              "      <td>-0.007887</td>\n",
              "      <td>-0.005631</td>\n",
              "    </tr>\n",
              "  </tbody>\n",
              "</table>\n",
              "</div>"
            ],
            "text/plain": [
              "   resorts_per_state  ...  resorts_per_100ksq_mile\n",
              "0           0.486079  ...                 0.192250\n",
              "1          -0.085092  ...                 0.637691\n",
              "2          -0.177937  ...                -0.366207\n",
              "3           0.056163  ...                -0.512443\n",
              "4          -0.209186  ...                 0.399461\n",
              "5          -0.818390  ...                -0.009146\n",
              "6          -0.090273  ...                -0.005631\n",
              "\n",
              "[7 rows x 7 columns]"
            ]
          },
          "metadata": {
            "tags": []
          },
          "execution_count": 49
        }
      ]
    },
    {
      "cell_type": "markdown",
      "metadata": {
        "id": "-jrnAfRQs5kP"
      },
      "source": [
        "For the row associated with the second component, are there any large values?"
      ]
    },
    {
      "cell_type": "markdown",
      "metadata": {
        "id": "iECsMMehs5kP"
      },
      "source": [
        "It looks like `resorts_per_100kcapita` and `resorts_per_100ksq_mile` might count for quite a lot, in a positive sense. Be aware that sign matters; a large negative coefficient multiplying a large negative feature will actually produce a large positive PCA score."
      ]
    },
    {
      "cell_type": "code",
      "metadata": {
        "id": "ikUJsLm1s5kP",
        "colab": {
          "base_uri": "https://localhost:8080/",
          "height": 297
        },
        "outputId": "816bf082-6a2e-4ae5-af6d-32217a26f340"
      },
      "source": [
        "state_summary[state_summary.state.isin(['New Hampshire', 'Vermont'])].T"
      ],
      "execution_count": null,
      "outputs": [
        {
          "output_type": "execute_result",
          "data": {
            "text/html": [
              "<div>\n",
              "<style scoped>\n",
              "    .dataframe tbody tr th:only-of-type {\n",
              "        vertical-align: middle;\n",
              "    }\n",
              "\n",
              "    .dataframe tbody tr th {\n",
              "        vertical-align: top;\n",
              "    }\n",
              "\n",
              "    .dataframe thead th {\n",
              "        text-align: right;\n",
              "    }\n",
              "</style>\n",
              "<table border=\"1\" class=\"dataframe\">\n",
              "  <thead>\n",
              "    <tr style=\"text-align: right;\">\n",
              "      <th></th>\n",
              "      <th>17</th>\n",
              "      <th>29</th>\n",
              "    </tr>\n",
              "  </thead>\n",
              "  <tbody>\n",
              "    <tr>\n",
              "      <th>state</th>\n",
              "      <td>New Hampshire</td>\n",
              "      <td>Vermont</td>\n",
              "    </tr>\n",
              "    <tr>\n",
              "      <th>resorts_per_state</th>\n",
              "      <td>16</td>\n",
              "      <td>15</td>\n",
              "    </tr>\n",
              "    <tr>\n",
              "      <th>state_total_skiable_area_ac</th>\n",
              "      <td>3427</td>\n",
              "      <td>7239</td>\n",
              "    </tr>\n",
              "    <tr>\n",
              "      <th>state_total_days_open</th>\n",
              "      <td>1847</td>\n",
              "      <td>1777</td>\n",
              "    </tr>\n",
              "    <tr>\n",
              "      <th>state_total_terrain_parks</th>\n",
              "      <td>43</td>\n",
              "      <td>50</td>\n",
              "    </tr>\n",
              "    <tr>\n",
              "      <th>state_total_nightskiing_ac</th>\n",
              "      <td>376</td>\n",
              "      <td>50</td>\n",
              "    </tr>\n",
              "    <tr>\n",
              "      <th>resorts_per_100kcapita</th>\n",
              "      <td>1.17672</td>\n",
              "      <td>2.40389</td>\n",
              "    </tr>\n",
              "    <tr>\n",
              "      <th>resorts_per_100ksq_mile</th>\n",
              "      <td>171.141</td>\n",
              "      <td>155.99</td>\n",
              "    </tr>\n",
              "  </tbody>\n",
              "</table>\n",
              "</div>"
            ],
            "text/plain": [
              "                                        17       29\n",
              "state                        New Hampshire  Vermont\n",
              "resorts_per_state                       16       15\n",
              "state_total_skiable_area_ac           3427     7239\n",
              "state_total_days_open                 1847     1777\n",
              "state_total_terrain_parks               43       50\n",
              "state_total_nightskiing_ac             376       50\n",
              "resorts_per_100kcapita             1.17672  2.40389\n",
              "resorts_per_100ksq_mile            171.141   155.99"
            ]
          },
          "metadata": {
            "tags": []
          },
          "execution_count": 50
        }
      ]
    },
    {
      "cell_type": "code",
      "metadata": {
        "id": "sUPoNd5ds5kP",
        "colab": {
          "base_uri": "https://localhost:8080/",
          "height": 266
        },
        "outputId": "56079d14-5b73-4224-a036-6822fcd98f6e"
      },
      "source": [
        "state_summary_scaled_df[state_summary.state.isin(['New Hampshire', 'Vermont'])].T"
      ],
      "execution_count": null,
      "outputs": [
        {
          "output_type": "execute_result",
          "data": {
            "text/html": [
              "<div>\n",
              "<style scoped>\n",
              "    .dataframe tbody tr th:only-of-type {\n",
              "        vertical-align: middle;\n",
              "    }\n",
              "\n",
              "    .dataframe tbody tr th {\n",
              "        vertical-align: top;\n",
              "    }\n",
              "\n",
              "    .dataframe thead th {\n",
              "        text-align: right;\n",
              "    }\n",
              "</style>\n",
              "<table border=\"1\" class=\"dataframe\">\n",
              "  <thead>\n",
              "    <tr style=\"text-align: right;\">\n",
              "      <th></th>\n",
              "      <th>17</th>\n",
              "      <th>29</th>\n",
              "    </tr>\n",
              "  </thead>\n",
              "  <tbody>\n",
              "    <tr>\n",
              "      <th>resorts_per_state</th>\n",
              "      <td>0.839478</td>\n",
              "      <td>0.712833</td>\n",
              "    </tr>\n",
              "    <tr>\n",
              "      <th>state_total_skiable_area_ac</th>\n",
              "      <td>-0.277128</td>\n",
              "      <td>0.104681</td>\n",
              "    </tr>\n",
              "    <tr>\n",
              "      <th>state_total_days_open</th>\n",
              "      <td>1.118608</td>\n",
              "      <td>1.034363</td>\n",
              "    </tr>\n",
              "    <tr>\n",
              "      <th>state_total_terrain_parks</th>\n",
              "      <td>0.921793</td>\n",
              "      <td>1.233725</td>\n",
              "    </tr>\n",
              "    <tr>\n",
              "      <th>state_total_nightskiing_ac</th>\n",
              "      <td>-0.245050</td>\n",
              "      <td>-0.747570</td>\n",
              "    </tr>\n",
              "    <tr>\n",
              "      <th>resorts_per_100kcapita</th>\n",
              "      <td>1.711066</td>\n",
              "      <td>4.226572</td>\n",
              "    </tr>\n",
              "    <tr>\n",
              "      <th>resorts_per_100ksq_mile</th>\n",
              "      <td>3.483281</td>\n",
              "      <td>3.112841</td>\n",
              "    </tr>\n",
              "  </tbody>\n",
              "</table>\n",
              "</div>"
            ],
            "text/plain": [
              "                                   17        29\n",
              "resorts_per_state            0.839478  0.712833\n",
              "state_total_skiable_area_ac -0.277128  0.104681\n",
              "state_total_days_open        1.118608  1.034363\n",
              "state_total_terrain_parks    0.921793  1.233725\n",
              "state_total_nightskiing_ac  -0.245050 -0.747570\n",
              "resorts_per_100kcapita       1.711066  4.226572\n",
              "resorts_per_100ksq_mile      3.483281  3.112841"
            ]
          },
          "metadata": {
            "tags": []
          },
          "execution_count": 51
        }
      ]
    },
    {
      "cell_type": "markdown",
      "metadata": {
        "id": "T0OUnfsgs5kQ"
      },
      "source": [
        "So, yes, both states have particularly large values of `resorts_per_100ksq_mile` in absolute terms, and these put them more than 3 standard deviations from the mean. Vermont also has a notably large value for `resorts_per_100kcapita`. New York, then, does not seem to be a stand-out for density of ski resorts either in terms of state size or population count."
      ]
    },
    {
      "cell_type": "markdown",
      "metadata": {
        "id": "iP7o_1LIs5kQ"
      },
      "source": [
        "### 3.5.4 Conclusion On How To Handle State Label<a id='3.5.4_Conclusion_On_How_To_Handle_State_Label'></a>"
      ]
    },
    {
      "cell_type": "markdown",
      "metadata": {
        "id": "tbSe2fdVs5kQ"
      },
      "source": [
        "You can offer some justification for treating all states equally, and work towards building a pricing model that considers all states together, without treating any one particularly specially. You haven't seen any clear grouping yet, but you have captured potentially relevant state data in features most likely to be relevant to your business use case. This answers a big question!"
      ]
    },
    {
      "cell_type": "markdown",
      "metadata": {
        "id": "IHSoitWBs5kQ"
      },
      "source": [
        "### 3.5.5 Ski Resort Numeric Data<a id='3.5.5_Ski_Resort_Numeric_Data'></a>"
      ]
    },
    {
      "cell_type": "code",
      "metadata": {
        "id": "6V5E7wecs5kQ"
      },
      "source": [
        ""
      ],
      "execution_count": null,
      "outputs": []
    },
    {
      "cell_type": "markdown",
      "metadata": {
        "id": "STPH-SGXs5kQ"
      },
      "source": [
        "After what may feel a detour, return to examining the ski resort data. It's worth noting, the previous EDA was valuable because it's given us some potentially useful features, as well as validating an approach for how to subsequently handle the state labels in your modeling."
      ]
    },
    {
      "cell_type": "code",
      "metadata": {
        "id": "jCdwyKSPs5kQ",
        "colab": {
          "base_uri": "https://localhost:8080/",
          "height": 824
        },
        "outputId": "98d30320-6414-44cf-f652-8497fb4e8866"
      },
      "source": [
        "ski_data.head().T"
      ],
      "execution_count": null,
      "outputs": [
        {
          "output_type": "execute_result",
          "data": {
            "text/html": [
              "<div>\n",
              "<style scoped>\n",
              "    .dataframe tbody tr th:only-of-type {\n",
              "        vertical-align: middle;\n",
              "    }\n",
              "\n",
              "    .dataframe tbody tr th {\n",
              "        vertical-align: top;\n",
              "    }\n",
              "\n",
              "    .dataframe thead th {\n",
              "        text-align: right;\n",
              "    }\n",
              "</style>\n",
              "<table border=\"1\" class=\"dataframe\">\n",
              "  <thead>\n",
              "    <tr style=\"text-align: right;\">\n",
              "      <th></th>\n",
              "      <th>0</th>\n",
              "      <th>1</th>\n",
              "      <th>2</th>\n",
              "      <th>3</th>\n",
              "      <th>4</th>\n",
              "    </tr>\n",
              "  </thead>\n",
              "  <tbody>\n",
              "    <tr>\n",
              "      <th>Name</th>\n",
              "      <td>Alyeska Resort</td>\n",
              "      <td>Eaglecrest Ski Area</td>\n",
              "      <td>Hilltop Ski Area</td>\n",
              "      <td>Arizona Snowbowl</td>\n",
              "      <td>Sunrise Park Resort</td>\n",
              "    </tr>\n",
              "    <tr>\n",
              "      <th>Region</th>\n",
              "      <td>Alaska</td>\n",
              "      <td>Alaska</td>\n",
              "      <td>Alaska</td>\n",
              "      <td>Arizona</td>\n",
              "      <td>Arizona</td>\n",
              "    </tr>\n",
              "    <tr>\n",
              "      <th>state</th>\n",
              "      <td>Alaska</td>\n",
              "      <td>Alaska</td>\n",
              "      <td>Alaska</td>\n",
              "      <td>Arizona</td>\n",
              "      <td>Arizona</td>\n",
              "    </tr>\n",
              "    <tr>\n",
              "      <th>summit_elev</th>\n",
              "      <td>3939</td>\n",
              "      <td>2600</td>\n",
              "      <td>2090</td>\n",
              "      <td>11500</td>\n",
              "      <td>11100</td>\n",
              "    </tr>\n",
              "    <tr>\n",
              "      <th>vertical_drop</th>\n",
              "      <td>2500</td>\n",
              "      <td>1540</td>\n",
              "      <td>294</td>\n",
              "      <td>2300</td>\n",
              "      <td>1800</td>\n",
              "    </tr>\n",
              "    <tr>\n",
              "      <th>base_elev</th>\n",
              "      <td>250</td>\n",
              "      <td>1200</td>\n",
              "      <td>1796</td>\n",
              "      <td>9200</td>\n",
              "      <td>9200</td>\n",
              "    </tr>\n",
              "    <tr>\n",
              "      <th>trams</th>\n",
              "      <td>1</td>\n",
              "      <td>0</td>\n",
              "      <td>0</td>\n",
              "      <td>0</td>\n",
              "      <td>0</td>\n",
              "    </tr>\n",
              "    <tr>\n",
              "      <th>fastSixes</th>\n",
              "      <td>0</td>\n",
              "      <td>0</td>\n",
              "      <td>0</td>\n",
              "      <td>1</td>\n",
              "      <td>0</td>\n",
              "    </tr>\n",
              "    <tr>\n",
              "      <th>fastQuads</th>\n",
              "      <td>2</td>\n",
              "      <td>0</td>\n",
              "      <td>0</td>\n",
              "      <td>0</td>\n",
              "      <td>1</td>\n",
              "    </tr>\n",
              "    <tr>\n",
              "      <th>quad</th>\n",
              "      <td>2</td>\n",
              "      <td>0</td>\n",
              "      <td>0</td>\n",
              "      <td>2</td>\n",
              "      <td>2</td>\n",
              "    </tr>\n",
              "    <tr>\n",
              "      <th>triple</th>\n",
              "      <td>0</td>\n",
              "      <td>0</td>\n",
              "      <td>1</td>\n",
              "      <td>2</td>\n",
              "      <td>3</td>\n",
              "    </tr>\n",
              "    <tr>\n",
              "      <th>double</th>\n",
              "      <td>0</td>\n",
              "      <td>4</td>\n",
              "      <td>0</td>\n",
              "      <td>1</td>\n",
              "      <td>1</td>\n",
              "    </tr>\n",
              "    <tr>\n",
              "      <th>surface</th>\n",
              "      <td>2</td>\n",
              "      <td>0</td>\n",
              "      <td>2</td>\n",
              "      <td>2</td>\n",
              "      <td>0</td>\n",
              "    </tr>\n",
              "    <tr>\n",
              "      <th>total_chairs</th>\n",
              "      <td>7</td>\n",
              "      <td>4</td>\n",
              "      <td>3</td>\n",
              "      <td>8</td>\n",
              "      <td>7</td>\n",
              "    </tr>\n",
              "    <tr>\n",
              "      <th>Runs</th>\n",
              "      <td>76</td>\n",
              "      <td>36</td>\n",
              "      <td>13</td>\n",
              "      <td>55</td>\n",
              "      <td>65</td>\n",
              "    </tr>\n",
              "    <tr>\n",
              "      <th>TerrainParks</th>\n",
              "      <td>2</td>\n",
              "      <td>1</td>\n",
              "      <td>1</td>\n",
              "      <td>4</td>\n",
              "      <td>2</td>\n",
              "    </tr>\n",
              "    <tr>\n",
              "      <th>LongestRun_mi</th>\n",
              "      <td>1</td>\n",
              "      <td>2</td>\n",
              "      <td>1</td>\n",
              "      <td>2</td>\n",
              "      <td>1.2</td>\n",
              "    </tr>\n",
              "    <tr>\n",
              "      <th>SkiableTerrain_ac</th>\n",
              "      <td>1610</td>\n",
              "      <td>640</td>\n",
              "      <td>30</td>\n",
              "      <td>777</td>\n",
              "      <td>800</td>\n",
              "    </tr>\n",
              "    <tr>\n",
              "      <th>Snow Making_ac</th>\n",
              "      <td>113</td>\n",
              "      <td>60</td>\n",
              "      <td>30</td>\n",
              "      <td>104</td>\n",
              "      <td>80</td>\n",
              "    </tr>\n",
              "    <tr>\n",
              "      <th>daysOpenLastYear</th>\n",
              "      <td>150</td>\n",
              "      <td>45</td>\n",
              "      <td>150</td>\n",
              "      <td>122</td>\n",
              "      <td>115</td>\n",
              "    </tr>\n",
              "    <tr>\n",
              "      <th>yearsOpen</th>\n",
              "      <td>60</td>\n",
              "      <td>44</td>\n",
              "      <td>36</td>\n",
              "      <td>81</td>\n",
              "      <td>49</td>\n",
              "    </tr>\n",
              "    <tr>\n",
              "      <th>averageSnowfall</th>\n",
              "      <td>669</td>\n",
              "      <td>350</td>\n",
              "      <td>69</td>\n",
              "      <td>260</td>\n",
              "      <td>250</td>\n",
              "    </tr>\n",
              "    <tr>\n",
              "      <th>AdultWeekend</th>\n",
              "      <td>85</td>\n",
              "      <td>53</td>\n",
              "      <td>34</td>\n",
              "      <td>89</td>\n",
              "      <td>78</td>\n",
              "    </tr>\n",
              "    <tr>\n",
              "      <th>projectedDaysOpen</th>\n",
              "      <td>150</td>\n",
              "      <td>90</td>\n",
              "      <td>152</td>\n",
              "      <td>122</td>\n",
              "      <td>104</td>\n",
              "    </tr>\n",
              "    <tr>\n",
              "      <th>NightSkiing_ac</th>\n",
              "      <td>550</td>\n",
              "      <td>NaN</td>\n",
              "      <td>30</td>\n",
              "      <td>NaN</td>\n",
              "      <td>80</td>\n",
              "    </tr>\n",
              "  </tbody>\n",
              "</table>\n",
              "</div>"
            ],
            "text/plain": [
              "                                0  ...                    4\n",
              "Name               Alyeska Resort  ...  Sunrise Park Resort\n",
              "Region                     Alaska  ...              Arizona\n",
              "state                      Alaska  ...              Arizona\n",
              "summit_elev                  3939  ...                11100\n",
              "vertical_drop                2500  ...                 1800\n",
              "base_elev                     250  ...                 9200\n",
              "trams                           1  ...                    0\n",
              "fastSixes                       0  ...                    0\n",
              "fastQuads                       2  ...                    1\n",
              "quad                            2  ...                    2\n",
              "triple                          0  ...                    3\n",
              "double                          0  ...                    1\n",
              "surface                         2  ...                    0\n",
              "total_chairs                    7  ...                    7\n",
              "Runs                           76  ...                   65\n",
              "TerrainParks                    2  ...                    2\n",
              "LongestRun_mi                   1  ...                  1.2\n",
              "SkiableTerrain_ac            1610  ...                  800\n",
              "Snow Making_ac                113  ...                   80\n",
              "daysOpenLastYear              150  ...                  115\n",
              "yearsOpen                      60  ...                   49\n",
              "averageSnowfall               669  ...                  250\n",
              "AdultWeekend                   85  ...                   78\n",
              "projectedDaysOpen             150  ...                  104\n",
              "NightSkiing_ac                550  ...                   80\n",
              "\n",
              "[25 rows x 5 columns]"
            ]
          },
          "metadata": {
            "tags": []
          },
          "execution_count": 52
        }
      ]
    },
    {
      "cell_type": "markdown",
      "metadata": {
        "id": "csYe2tUhs5kQ"
      },
      "source": [
        "#### 3.5.5.1 Feature engineering<a id='3.5.5.1_Feature_engineering'></a>"
      ]
    },
    {
      "cell_type": "markdown",
      "metadata": {
        "id": "FL-CdVoxs5kQ"
      },
      "source": [
        "Having previously spent some time exploring the state summary data you derived, you now start to explore the resort-level data in more detail. This can help guide you on how (or whether) to use the state labels in the data. It's now time to merge the two datasets and engineer some intuitive features. For example, you can engineer a resort's share of the supply for a given state."
      ]
    },
    {
      "cell_type": "code",
      "metadata": {
        "id": "8HR6Xheys5kQ",
        "colab": {
          "base_uri": "https://localhost:8080/",
          "height": 204
        },
        "outputId": "efbdfa0e-a802-4baa-ad20-bc3affe28ff5"
      },
      "source": [
        "state_summary.head()"
      ],
      "execution_count": null,
      "outputs": [
        {
          "output_type": "execute_result",
          "data": {
            "text/html": [
              "<div>\n",
              "<style scoped>\n",
              "    .dataframe tbody tr th:only-of-type {\n",
              "        vertical-align: middle;\n",
              "    }\n",
              "\n",
              "    .dataframe tbody tr th {\n",
              "        vertical-align: top;\n",
              "    }\n",
              "\n",
              "    .dataframe thead th {\n",
              "        text-align: right;\n",
              "    }\n",
              "</style>\n",
              "<table border=\"1\" class=\"dataframe\">\n",
              "  <thead>\n",
              "    <tr style=\"text-align: right;\">\n",
              "      <th></th>\n",
              "      <th>state</th>\n",
              "      <th>resorts_per_state</th>\n",
              "      <th>state_total_skiable_area_ac</th>\n",
              "      <th>state_total_days_open</th>\n",
              "      <th>state_total_terrain_parks</th>\n",
              "      <th>state_total_nightskiing_ac</th>\n",
              "      <th>resorts_per_100kcapita</th>\n",
              "      <th>resorts_per_100ksq_mile</th>\n",
              "    </tr>\n",
              "  </thead>\n",
              "  <tbody>\n",
              "    <tr>\n",
              "      <th>0</th>\n",
              "      <td>Alaska</td>\n",
              "      <td>3</td>\n",
              "      <td>2280.0</td>\n",
              "      <td>345.0</td>\n",
              "      <td>4.0</td>\n",
              "      <td>580.0</td>\n",
              "      <td>0.410091</td>\n",
              "      <td>0.450867</td>\n",
              "    </tr>\n",
              "    <tr>\n",
              "      <th>1</th>\n",
              "      <td>Arizona</td>\n",
              "      <td>2</td>\n",
              "      <td>1577.0</td>\n",
              "      <td>237.0</td>\n",
              "      <td>6.0</td>\n",
              "      <td>80.0</td>\n",
              "      <td>0.027477</td>\n",
              "      <td>1.754540</td>\n",
              "    </tr>\n",
              "    <tr>\n",
              "      <th>2</th>\n",
              "      <td>California</td>\n",
              "      <td>21</td>\n",
              "      <td>25948.0</td>\n",
              "      <td>2738.0</td>\n",
              "      <td>81.0</td>\n",
              "      <td>587.0</td>\n",
              "      <td>0.053148</td>\n",
              "      <td>12.828736</td>\n",
              "    </tr>\n",
              "    <tr>\n",
              "      <th>3</th>\n",
              "      <td>Colorado</td>\n",
              "      <td>22</td>\n",
              "      <td>43682.0</td>\n",
              "      <td>3258.0</td>\n",
              "      <td>74.0</td>\n",
              "      <td>428.0</td>\n",
              "      <td>0.382028</td>\n",
              "      <td>21.134744</td>\n",
              "    </tr>\n",
              "    <tr>\n",
              "      <th>4</th>\n",
              "      <td>Connecticut</td>\n",
              "      <td>5</td>\n",
              "      <td>358.0</td>\n",
              "      <td>353.0</td>\n",
              "      <td>10.0</td>\n",
              "      <td>256.0</td>\n",
              "      <td>0.140242</td>\n",
              "      <td>90.203861</td>\n",
              "    </tr>\n",
              "  </tbody>\n",
              "</table>\n",
              "</div>"
            ],
            "text/plain": [
              "         state  ...  resorts_per_100ksq_mile\n",
              "0       Alaska  ...                 0.450867\n",
              "1      Arizona  ...                 1.754540\n",
              "2   California  ...                12.828736\n",
              "3     Colorado  ...                21.134744\n",
              "4  Connecticut  ...                90.203861\n",
              "\n",
              "[5 rows x 8 columns]"
            ]
          },
          "metadata": {
            "tags": []
          },
          "execution_count": 53
        }
      ]
    },
    {
      "cell_type": "code",
      "metadata": {
        "id": "cgPoOmC-s5kQ",
        "colab": {
          "base_uri": "https://localhost:8080/",
          "height": 1000
        },
        "outputId": "6f1385b1-6d9f-4de4-e0d5-86ae72eac1f8"
      },
      "source": [
        "# DataFrame's merge method provides SQL-like joins\n",
        "# here 'state' is a column (not an index)\n",
        "ski_data = ski_data.merge(state_summary, how='left', on='state')\n",
        "ski_data.head().T"
      ],
      "execution_count": null,
      "outputs": [
        {
          "output_type": "execute_result",
          "data": {
            "text/html": [
              "<div>\n",
              "<style scoped>\n",
              "    .dataframe tbody tr th:only-of-type {\n",
              "        vertical-align: middle;\n",
              "    }\n",
              "\n",
              "    .dataframe tbody tr th {\n",
              "        vertical-align: top;\n",
              "    }\n",
              "\n",
              "    .dataframe thead th {\n",
              "        text-align: right;\n",
              "    }\n",
              "</style>\n",
              "<table border=\"1\" class=\"dataframe\">\n",
              "  <thead>\n",
              "    <tr style=\"text-align: right;\">\n",
              "      <th></th>\n",
              "      <th>0</th>\n",
              "      <th>1</th>\n",
              "      <th>2</th>\n",
              "      <th>3</th>\n",
              "      <th>4</th>\n",
              "    </tr>\n",
              "  </thead>\n",
              "  <tbody>\n",
              "    <tr>\n",
              "      <th>Name</th>\n",
              "      <td>Alyeska Resort</td>\n",
              "      <td>Eaglecrest Ski Area</td>\n",
              "      <td>Hilltop Ski Area</td>\n",
              "      <td>Arizona Snowbowl</td>\n",
              "      <td>Sunrise Park Resort</td>\n",
              "    </tr>\n",
              "    <tr>\n",
              "      <th>Region</th>\n",
              "      <td>Alaska</td>\n",
              "      <td>Alaska</td>\n",
              "      <td>Alaska</td>\n",
              "      <td>Arizona</td>\n",
              "      <td>Arizona</td>\n",
              "    </tr>\n",
              "    <tr>\n",
              "      <th>state</th>\n",
              "      <td>Alaska</td>\n",
              "      <td>Alaska</td>\n",
              "      <td>Alaska</td>\n",
              "      <td>Arizona</td>\n",
              "      <td>Arizona</td>\n",
              "    </tr>\n",
              "    <tr>\n",
              "      <th>summit_elev</th>\n",
              "      <td>3939</td>\n",
              "      <td>2600</td>\n",
              "      <td>2090</td>\n",
              "      <td>11500</td>\n",
              "      <td>11100</td>\n",
              "    </tr>\n",
              "    <tr>\n",
              "      <th>vertical_drop</th>\n",
              "      <td>2500</td>\n",
              "      <td>1540</td>\n",
              "      <td>294</td>\n",
              "      <td>2300</td>\n",
              "      <td>1800</td>\n",
              "    </tr>\n",
              "    <tr>\n",
              "      <th>base_elev</th>\n",
              "      <td>250</td>\n",
              "      <td>1200</td>\n",
              "      <td>1796</td>\n",
              "      <td>9200</td>\n",
              "      <td>9200</td>\n",
              "    </tr>\n",
              "    <tr>\n",
              "      <th>trams</th>\n",
              "      <td>1</td>\n",
              "      <td>0</td>\n",
              "      <td>0</td>\n",
              "      <td>0</td>\n",
              "      <td>0</td>\n",
              "    </tr>\n",
              "    <tr>\n",
              "      <th>fastSixes</th>\n",
              "      <td>0</td>\n",
              "      <td>0</td>\n",
              "      <td>0</td>\n",
              "      <td>1</td>\n",
              "      <td>0</td>\n",
              "    </tr>\n",
              "    <tr>\n",
              "      <th>fastQuads</th>\n",
              "      <td>2</td>\n",
              "      <td>0</td>\n",
              "      <td>0</td>\n",
              "      <td>0</td>\n",
              "      <td>1</td>\n",
              "    </tr>\n",
              "    <tr>\n",
              "      <th>quad</th>\n",
              "      <td>2</td>\n",
              "      <td>0</td>\n",
              "      <td>0</td>\n",
              "      <td>2</td>\n",
              "      <td>2</td>\n",
              "    </tr>\n",
              "    <tr>\n",
              "      <th>triple</th>\n",
              "      <td>0</td>\n",
              "      <td>0</td>\n",
              "      <td>1</td>\n",
              "      <td>2</td>\n",
              "      <td>3</td>\n",
              "    </tr>\n",
              "    <tr>\n",
              "      <th>double</th>\n",
              "      <td>0</td>\n",
              "      <td>4</td>\n",
              "      <td>0</td>\n",
              "      <td>1</td>\n",
              "      <td>1</td>\n",
              "    </tr>\n",
              "    <tr>\n",
              "      <th>surface</th>\n",
              "      <td>2</td>\n",
              "      <td>0</td>\n",
              "      <td>2</td>\n",
              "      <td>2</td>\n",
              "      <td>0</td>\n",
              "    </tr>\n",
              "    <tr>\n",
              "      <th>total_chairs</th>\n",
              "      <td>7</td>\n",
              "      <td>4</td>\n",
              "      <td>3</td>\n",
              "      <td>8</td>\n",
              "      <td>7</td>\n",
              "    </tr>\n",
              "    <tr>\n",
              "      <th>Runs</th>\n",
              "      <td>76</td>\n",
              "      <td>36</td>\n",
              "      <td>13</td>\n",
              "      <td>55</td>\n",
              "      <td>65</td>\n",
              "    </tr>\n",
              "    <tr>\n",
              "      <th>TerrainParks</th>\n",
              "      <td>2</td>\n",
              "      <td>1</td>\n",
              "      <td>1</td>\n",
              "      <td>4</td>\n",
              "      <td>2</td>\n",
              "    </tr>\n",
              "    <tr>\n",
              "      <th>LongestRun_mi</th>\n",
              "      <td>1</td>\n",
              "      <td>2</td>\n",
              "      <td>1</td>\n",
              "      <td>2</td>\n",
              "      <td>1.2</td>\n",
              "    </tr>\n",
              "    <tr>\n",
              "      <th>SkiableTerrain_ac</th>\n",
              "      <td>1610</td>\n",
              "      <td>640</td>\n",
              "      <td>30</td>\n",
              "      <td>777</td>\n",
              "      <td>800</td>\n",
              "    </tr>\n",
              "    <tr>\n",
              "      <th>Snow Making_ac</th>\n",
              "      <td>113</td>\n",
              "      <td>60</td>\n",
              "      <td>30</td>\n",
              "      <td>104</td>\n",
              "      <td>80</td>\n",
              "    </tr>\n",
              "    <tr>\n",
              "      <th>daysOpenLastYear</th>\n",
              "      <td>150</td>\n",
              "      <td>45</td>\n",
              "      <td>150</td>\n",
              "      <td>122</td>\n",
              "      <td>115</td>\n",
              "    </tr>\n",
              "    <tr>\n",
              "      <th>yearsOpen</th>\n",
              "      <td>60</td>\n",
              "      <td>44</td>\n",
              "      <td>36</td>\n",
              "      <td>81</td>\n",
              "      <td>49</td>\n",
              "    </tr>\n",
              "    <tr>\n",
              "      <th>averageSnowfall</th>\n",
              "      <td>669</td>\n",
              "      <td>350</td>\n",
              "      <td>69</td>\n",
              "      <td>260</td>\n",
              "      <td>250</td>\n",
              "    </tr>\n",
              "    <tr>\n",
              "      <th>AdultWeekend</th>\n",
              "      <td>85</td>\n",
              "      <td>53</td>\n",
              "      <td>34</td>\n",
              "      <td>89</td>\n",
              "      <td>78</td>\n",
              "    </tr>\n",
              "    <tr>\n",
              "      <th>projectedDaysOpen</th>\n",
              "      <td>150</td>\n",
              "      <td>90</td>\n",
              "      <td>152</td>\n",
              "      <td>122</td>\n",
              "      <td>104</td>\n",
              "    </tr>\n",
              "    <tr>\n",
              "      <th>NightSkiing_ac</th>\n",
              "      <td>550</td>\n",
              "      <td>NaN</td>\n",
              "      <td>30</td>\n",
              "      <td>NaN</td>\n",
              "      <td>80</td>\n",
              "    </tr>\n",
              "    <tr>\n",
              "      <th>resorts_per_state</th>\n",
              "      <td>3</td>\n",
              "      <td>3</td>\n",
              "      <td>3</td>\n",
              "      <td>2</td>\n",
              "      <td>2</td>\n",
              "    </tr>\n",
              "    <tr>\n",
              "      <th>state_total_skiable_area_ac</th>\n",
              "      <td>2280</td>\n",
              "      <td>2280</td>\n",
              "      <td>2280</td>\n",
              "      <td>1577</td>\n",
              "      <td>1577</td>\n",
              "    </tr>\n",
              "    <tr>\n",
              "      <th>state_total_days_open</th>\n",
              "      <td>345</td>\n",
              "      <td>345</td>\n",
              "      <td>345</td>\n",
              "      <td>237</td>\n",
              "      <td>237</td>\n",
              "    </tr>\n",
              "    <tr>\n",
              "      <th>state_total_terrain_parks</th>\n",
              "      <td>4</td>\n",
              "      <td>4</td>\n",
              "      <td>4</td>\n",
              "      <td>6</td>\n",
              "      <td>6</td>\n",
              "    </tr>\n",
              "    <tr>\n",
              "      <th>state_total_nightskiing_ac</th>\n",
              "      <td>580</td>\n",
              "      <td>580</td>\n",
              "      <td>580</td>\n",
              "      <td>80</td>\n",
              "      <td>80</td>\n",
              "    </tr>\n",
              "    <tr>\n",
              "      <th>resorts_per_100kcapita</th>\n",
              "      <td>0.410091</td>\n",
              "      <td>0.410091</td>\n",
              "      <td>0.410091</td>\n",
              "      <td>0.0274774</td>\n",
              "      <td>0.0274774</td>\n",
              "    </tr>\n",
              "    <tr>\n",
              "      <th>resorts_per_100ksq_mile</th>\n",
              "      <td>0.450867</td>\n",
              "      <td>0.450867</td>\n",
              "      <td>0.450867</td>\n",
              "      <td>1.75454</td>\n",
              "      <td>1.75454</td>\n",
              "    </tr>\n",
              "  </tbody>\n",
              "</table>\n",
              "</div>"
            ],
            "text/plain": [
              "                                          0  ...                    4\n",
              "Name                         Alyeska Resort  ...  Sunrise Park Resort\n",
              "Region                               Alaska  ...              Arizona\n",
              "state                                Alaska  ...              Arizona\n",
              "summit_elev                            3939  ...                11100\n",
              "vertical_drop                          2500  ...                 1800\n",
              "base_elev                               250  ...                 9200\n",
              "trams                                     1  ...                    0\n",
              "fastSixes                                 0  ...                    0\n",
              "fastQuads                                 2  ...                    1\n",
              "quad                                      2  ...                    2\n",
              "triple                                    0  ...                    3\n",
              "double                                    0  ...                    1\n",
              "surface                                   2  ...                    0\n",
              "total_chairs                              7  ...                    7\n",
              "Runs                                     76  ...                   65\n",
              "TerrainParks                              2  ...                    2\n",
              "LongestRun_mi                             1  ...                  1.2\n",
              "SkiableTerrain_ac                      1610  ...                  800\n",
              "Snow Making_ac                          113  ...                   80\n",
              "daysOpenLastYear                        150  ...                  115\n",
              "yearsOpen                                60  ...                   49\n",
              "averageSnowfall                         669  ...                  250\n",
              "AdultWeekend                             85  ...                   78\n",
              "projectedDaysOpen                       150  ...                  104\n",
              "NightSkiing_ac                          550  ...                   80\n",
              "resorts_per_state                         3  ...                    2\n",
              "state_total_skiable_area_ac            2280  ...                 1577\n",
              "state_total_days_open                   345  ...                  237\n",
              "state_total_terrain_parks                 4  ...                    6\n",
              "state_total_nightskiing_ac              580  ...                   80\n",
              "resorts_per_100kcapita             0.410091  ...            0.0274774\n",
              "resorts_per_100ksq_mile            0.450867  ...              1.75454\n",
              "\n",
              "[32 rows x 5 columns]"
            ]
          },
          "metadata": {
            "tags": []
          },
          "execution_count": 54
        }
      ]
    },
    {
      "cell_type": "markdown",
      "metadata": {
        "id": "Q7sGGau6s5kR"
      },
      "source": [
        "Having merged your state summary features into the ski resort data, add \"state resort competition\" features:\n",
        "\n",
        "* ratio of resort skiable area to total state skiable area\n",
        "* ratio of resort days open to total state days open\n",
        "* ratio of resort terrain park count to total state terrain park count\n",
        "* ratio of resort night skiing area to total state night skiing area\n",
        "\n",
        "Once you've derived these features to put each resort within the context of its state,drop those state columns. Their main purpose was to understand what share of states' skiing \"assets\" is accounted for by each resort."
      ]
    },
    {
      "cell_type": "code",
      "metadata": {
        "id": "Y_l5LaQPs5kR"
      },
      "source": [
        "ski_data['resort_skiable_area_ac_state_ratio'] = ski_data.SkiableTerrain_ac / ski_data.state_total_skiable_area_ac\n",
        "ski_data['resort_days_open_state_ratio'] = ski_data.daysOpenLastYear / ski_data.state_total_days_open\n",
        "ski_data['resort_terrain_park_state_ratio'] = ski_data.TerrainParks / ski_data.state_total_terrain_parks\n",
        "ski_data['resort_night_skiing_state_ratio'] = ski_data.NightSkiing_ac / ski_data.state_total_nightskiing_ac\n",
        "\n",
        "ski_data.drop(columns=['state_total_skiable_area_ac', 'state_total_days_open', \n",
        "                       'state_total_terrain_parks', 'state_total_nightskiing_ac'], inplace=True)"
      ],
      "execution_count": null,
      "outputs": []
    },
    {
      "cell_type": "markdown",
      "metadata": {
        "id": "GUS0vwK2s5kR"
      },
      "source": [
        "#### 3.5.5.2 Feature correlation heatmap<a id='3.5.5.2_Feature_correlation_heatmap'></a>"
      ]
    },
    {
      "cell_type": "markdown",
      "metadata": {
        "id": "J1hpN5mZs5kR"
      },
      "source": [
        "A great way to gain a high level view of relationships amongst the features."
      ]
    },
    {
      "cell_type": "code",
      "metadata": {
        "id": "d7Rz9EHks5kR",
        "colab": {
          "base_uri": "https://localhost:8080/",
          "height": 757
        },
        "outputId": "0604c956-325a-4dca-b9c9-09dcf53eb909"
      },
      "source": [
        "#Code task 12#\n",
        "#Show a seaborn heatmap of correlations in ski_data\n",
        "#Hint: call pandas' `corr()` method on `ski_data` and pass that into `sns.heatmap`\n",
        "plt.subplots(figsize=(12,10))\n",
        "sns.heatmap(ski_data.corr());"
      ],
      "execution_count": null,
      "outputs": [
        {
          "output_type": "display_data",
          "data": {
            "image/png": "[encoded data removed]",
            "text/plain": [
              "<Figure size 864x720 with 2 Axes>"
            ]
          },
          "metadata": {
            "tags": [],
            "needs_background": "light"
          }
        }
      ]
    },
    {
      "cell_type": "markdown",
      "metadata": {
        "id": "ZnsRy0S8s5kR"
      },
      "source": [
        "There is a lot to take away from this. First, summit and base elevation are quite highly correlated. This isn't a surprise. You can also see that you've introduced a lot of multicollinearity with your new ratio features; they are negatively correlated with the number of resorts in each state. This latter observation makes sense! If you increase the number of resorts in a state, the share of all the other state features will drop for each. An interesting observation in this region of the heatmap is that there is some positive correlation between the ratio of night skiing area with the number of resorts per capita. In other words, it seems that when resorts are more densely located with population, more night skiing is provided.\n",
        "\n",
        "Turning your attention to your target feature, `AdultWeekend` ticket price, you see quite a few reasonable correlations. `fastQuads` stands out, along with `Runs` and `Snow Making_ac`. The last one is interesting. Visitors would seem to value more guaranteed snow, which would cost in terms of snow making equipment, which would drive prices and costs up. Of the new features, `resort_night_skiing_state_ratio` seems the most correlated with ticket price. If this is true, then perhaps seizing a greater share of night skiing capacity is positive for the price a resort can charge.\n",
        "\n",
        "As well as `Runs`, `total_chairs` is quite well correlated with ticket price. This is plausible; the more runs you have, the more chairs you'd need to ferry people to them! Interestingly, they may count for more than the total skiable terrain area. For sure, the total skiable terrain area is not as useful as the area with snow making. People seem to put more value in guaranteed snow cover rather than more variable terrain area.\n",
        "\n",
        "The vertical drop seems to be a selling point that raises ticket prices as well."
      ]
    },
    {
      "cell_type": "markdown",
      "metadata": {
        "id": "f0fiZUhls5kR"
      },
      "source": [
        "#### 3.5.5.3 Scatterplots of numeric features against ticket price<a id='3.5.5.3_Scatterplots_of_numeric_features_against_ticket_price'></a>"
      ]
    },
    {
      "cell_type": "markdown",
      "metadata": {
        "id": "TKjoawbBs5kR"
      },
      "source": [
        "Correlations, particularly viewing them together as a heatmap, can be a great first pass at identifying patterns. But correlation can mask relationships between two variables. You'll now create a series of scatterplots to really dive into how ticket price varies with other numeric features."
      ]
    },
    {
      "cell_type": "code",
      "metadata": {
        "id": "NMnlbracs5kR"
      },
      "source": [
        "# define useful function to create scatterplots of ticket prices against desired columns\n",
        "def scatterplots(columns, ncol=None, figsize=(15, 8)):\n",
        "    if ncol is None:\n",
        "        ncol = len(columns)\n",
        "    nrow = int(np.ceil(len(columns) / ncol))\n",
        "    fig, axes = plt.subplots(nrow, ncol, figsize=figsize, squeeze=False)\n",
        "    fig.subplots_adjust(wspace=0.5, hspace=0.6)\n",
        "    for i, col in enumerate(columns):\n",
        "        ax = axes.flatten()[i]\n",
        "        ax.scatter(x = col, y = 'AdultWeekend', data=ski_data, alpha=0.5)\n",
        "        ax.set(xlabel=col, ylabel='Ticket price')\n",
        "    nsubplots = nrow * ncol    \n",
        "    for empty in range(i+1, nsubplots):\n",
        "        axes.flatten()[empty].set_visible(False)"
      ],
      "execution_count": null,
      "outputs": []
    },
    {
      "cell_type": "code",
      "metadata": {
        "id": "j-oG7nSXs5kR"
      },
      "source": [
        "#Code task 13#\n",
        "#Use a list comprehension to build a list of features from the columns of `ski_data` that\n",
        "#are _not_ any of 'Name', 'Region', 'state', or 'AdultWeekend'\n",
        "features = [i for i in ski_data.columns if i not in ['Name', 'Region', 'State', 'AdultWeekend']]"
      ],
      "execution_count": null,
      "outputs": []
    },
    {
      "cell_type": "code",
      "metadata": {
        "colab": {
          "base_uri": "https://localhost:8080/"
        },
        "id": "2ZiKqqhO-0U8",
        "outputId": "36a072c7-86a7-4021-e64b-0df4408d2381"
      },
      "source": [
        "features"
      ],
      "execution_count": null,
      "outputs": [
        {
          "output_type": "execute_result",
          "data": {
            "text/plain": [
              "['state',\n",
              " 'summit_elev',\n",
              " 'vertical_drop',\n",
              " 'base_elev',\n",
              " 'trams',\n",
              " 'fastSixes',\n",
              " 'fastQuads',\n",
              " 'quad',\n",
              " 'triple',\n",
              " 'double',\n",
              " 'surface',\n",
              " 'total_chairs',\n",
              " 'Runs',\n",
              " 'TerrainParks',\n",
              " 'LongestRun_mi',\n",
              " 'SkiableTerrain_ac',\n",
              " 'Snow Making_ac',\n",
              " 'daysOpenLastYear',\n",
              " 'yearsOpen',\n",
              " 'averageSnowfall',\n",
              " 'projectedDaysOpen',\n",
              " 'NightSkiing_ac',\n",
              " 'resorts_per_state',\n",
              " 'resorts_per_100kcapita',\n",
              " 'resorts_per_100ksq_mile',\n",
              " 'resort_skiable_area_ac_state_ratio',\n",
              " 'resort_days_open_state_ratio',\n",
              " 'resort_terrain_park_state_ratio',\n",
              " 'resort_night_skiing_state_ratio']"
            ]
          },
          "metadata": {
            "tags": []
          },
          "execution_count": 59
        }
      ]
    },
    {
      "cell_type": "code",
      "metadata": {
        "id": "TXM7_-Y4s5kS",
        "colab": {
          "base_uri": "https://localhost:8080/",
          "height": 878
        },
        "outputId": "13c43974-8b37-46fb-b2a5-f35cec82456c"
      },
      "source": [
        "scatterplots(features, ncol=4, figsize=(15, 15))"
      ],
      "execution_count": null,
      "outputs": [
        {
          "output_type": "display_data",
          "data": {
            "image/png": "[encoded data removed]",
            "text/plain": [
              "<Figure size 1080x1080 with 32 Axes>"
            ]
          },
          "metadata": {
            "tags": [],
            "needs_background": "light"
          }
        }
      ]
    },
    {
      "cell_type": "markdown",
      "metadata": {
        "id": "ekAj3UISs5kS"
      },
      "source": [
        "In the scatterplots you see what some of the high correlations were clearly picking up on. There's a strong positive correlation with `vertical_drop`. `fastQuads` seems very useful. `Runs` and `total_chairs` appear quite similar and also useful. `resorts_per_100kcapita` shows something interesting that you don't see from just a headline correlation figure. When the value is low, there is quite a variability in ticket price, although it's capable of going quite high. Ticket price may drop a little before then climbing upwards as the number of resorts per capita increases. Ticket price could climb with the number of resorts serving a population because it indicates a popular area for skiing with plenty of demand. The lower ticket price when fewer resorts serve a population may similarly be because it's a less popular state for skiing. The high price for some resorts when resorts are rare (relative to the population size) may indicate areas where a small number of resorts can benefit from a monopoly effect. It's not a clear picture, although we have some interesting signs."
      ]
    },
    {
      "cell_type": "markdown",
      "metadata": {
        "id": "5kwcNAEZs5kS"
      },
      "source": [
        "Finally, think of some further features that may be useful in that they relate to how easily a resort can transport people around. You have the numbers of various chairs, and the number of runs, but you don't have the ratio of chairs to runs. It seems logical that this ratio would inform you how easily, and so quickly, people could get to their next ski slope! Create these features now."
      ]
    },
    {
      "cell_type": "code",
      "metadata": {
        "id": "Sp3o5IlJs5kS"
      },
      "source": [
        "ski_data['total_chairs_runs_ratio'] = ski_data.total_chairs / ski_data.Runs\n",
        "ski_data['total_chairs_skiable_ratio'] = ski_data.total_chairs / ski_data.SkiableTerrain_ac\n",
        "ski_data['fastQuads_runs_ratio'] = ski_data.fastQuads / ski_data.Runs\n",
        "ski_data['fastQuads_skiable_ratio'] = ski_data.fastQuads / ski_data.SkiableTerrain_ac"
      ],
      "execution_count": null,
      "outputs": []
    },
    {
      "cell_type": "code",
      "metadata": {
        "id": "1Ee9amN5s5kS",
        "colab": {
          "base_uri": "https://localhost:8080/",
          "height": 498
        },
        "outputId": "3360d205-210a-4167-af4e-59231e12da19"
      },
      "source": [
        "scatterplots(['total_chairs_runs_ratio', 'total_chairs_skiable_ratio', \n",
        "              'fastQuads_runs_ratio', 'fastQuads_skiable_ratio'], ncol=2)"
      ],
      "execution_count": null,
      "outputs": [
        {
          "output_type": "display_data",
          "data": {
            "image/png": "[encoded data removed]",
            "text/plain": [
              "<Figure size 1080x576 with 4 Axes>"
            ]
          },
          "metadata": {
            "tags": [],
            "needs_background": "light"
          }
        }
      ]
    },
    {
      "cell_type": "markdown",
      "metadata": {
        "id": "FXYueL3bs5kS"
      },
      "source": [
        "At first these relationships are quite counterintuitive. It seems that the more chairs a resort has to move people around, relative to the number of runs, ticket price rapidly plummets and stays low. What we may be seeing here is an exclusive vs. mass market resort effect; if you don't have so many chairs, you can charge more for your tickets, although with fewer chairs you're inevitably going to be able to serve fewer visitors. Your price per visitor is high but your number of visitors may be low. Something very useful that's missing from the data is the number of visitors per year.\n",
        "\n",
        "It also appears that having no fast quads may limit the ticket price, but if your resort covers a wide area then getting a small number of fast quads may be beneficial to ticket price."
      ]
    },
    {
      "cell_type": "markdown",
      "metadata": {
        "id": "6cOnEfOIs5kS"
      },
      "source": [
        "## 3.6 Summary<a id='3.6_Summary'></a>"
      ]
    },
    {
      "cell_type": "markdown",
      "metadata": {
        "id": "2rowQRJ6s5kS"
      },
      "source": [
        "**Q: 1** Write a summary of the exploratory data analysis above. What numerical or categorical features were in the data? Was there any pattern suggested of a relationship between state and ticket price? What did this lead us to decide regarding which features to use in subsequent modeling? What aspects of the data (e.g. relationships between features) should you remain wary of when you come to perform feature selection for modeling? Two key points that must be addressed are the choice of target feature for your modelling and how, if at all, you're going to handle the states labels in the data."
      ]
    },
    {
      "cell_type": "markdown",
      "metadata": {
        "id": "yW82jD-gs5kS"
      },
      "source": [
        "**A: 1** Your answer here\n",
        "\n",
        "Ans:\tNumerical or Categorical Features: \n",
        "The data that we have wrangled had 26 columns. Some columns were Dtype of integer (12), float64(11), object (3).\n",
        "First, we found the top 5 states with different summary statistics. \n",
        "\n",
        "Top state with:\n",
        "\n",
        "State area: Alaska, California, Montana, New Mexico.\n",
        "\n",
        "State Population: California, New York, Pennsylvania, Illinois, Ohio\n",
        "\n",
        "Resort Per State: New York has lots of resort compared to others states. After New York comes Michigan, Colorado, Pennsylvania.\n",
        "\n",
        "Skiable Area: Colorado, Utah, California, Montana, Idaho. Looks like New York only has lots of resort but not a lot of skiable area. Our resort Montana has a fourth largest skiable area in US.\n",
        "\n",
        "Night skiing area: New York has a largest night skiing area. After New York comes Washington, Michigan, Pennsylvania, Oregon.\n",
        "Total Days Open: Colorado, California, Michigan, New York, New Hampshire are the top 5 states that are open for longest days.\n",
        "The other things that we calculated are the resort density of each state.\n",
        "\n",
        "Resort density of each state per 100k capita: Vermont, Wyoming, New Hampshire, Montana, Idaho are the top 5 states that have more resort per population.\n",
        "\n",
        "Resort density of each state per 100k sq miles: New Hampshire, Vermont, Massachusetts, Connecticut, Rhode Island.\n",
        "We can see that Vermont and New Hampshire are in top of list for resort density.\n",
        "\n",
        "Relation between state and ticket price:\n",
        "We did the Principal Component Analysis for the ski data. We found the quartiles for each state ticket price. But this method also did not help us to see the pattern for ticket prices. But fast Quads, runs , snowmaking and total chairs have some correlations with ticket price.\n",
        "Vermont and New Hampshire are particularly popular sites and have a high resort density (per square mile) and (per population). This information was used to create a new feature later. So, the choice of target features for our modeling are runs , total_chairs , and snow making_ac.\n"
      ]
    },
    {
      "cell_type": "code",
      "metadata": {
        "id": "Oxjxqf0Zs5kS",
        "colab": {
          "base_uri": "https://localhost:8080/",
          "height": 1000
        },
        "outputId": "5a2a62e0-6767-47d9-9e0d-346fe2d8abbd"
      },
      "source": [
        "ski_data.head().T"
      ],
      "execution_count": null,
      "outputs": [
        {
          "output_type": "execute_result",
          "data": {
            "text/html": [
              "<div>\n",
              "<style scoped>\n",
              "    .dataframe tbody tr th:only-of-type {\n",
              "        vertical-align: middle;\n",
              "    }\n",
              "\n",
              "    .dataframe tbody tr th {\n",
              "        vertical-align: top;\n",
              "    }\n",
              "\n",
              "    .dataframe thead th {\n",
              "        text-align: right;\n",
              "    }\n",
              "</style>\n",
              "<table border=\"1\" class=\"dataframe\">\n",
              "  <thead>\n",
              "    <tr style=\"text-align: right;\">\n",
              "      <th></th>\n",
              "      <th>0</th>\n",
              "      <th>1</th>\n",
              "      <th>2</th>\n",
              "      <th>3</th>\n",
              "      <th>4</th>\n",
              "    </tr>\n",
              "  </thead>\n",
              "  <tbody>\n",
              "    <tr>\n",
              "      <th>Name</th>\n",
              "      <td>Alyeska Resort</td>\n",
              "      <td>Eaglecrest Ski Area</td>\n",
              "      <td>Hilltop Ski Area</td>\n",
              "      <td>Arizona Snowbowl</td>\n",
              "      <td>Sunrise Park Resort</td>\n",
              "    </tr>\n",
              "    <tr>\n",
              "      <th>Region</th>\n",
              "      <td>Alaska</td>\n",
              "      <td>Alaska</td>\n",
              "      <td>Alaska</td>\n",
              "      <td>Arizona</td>\n",
              "      <td>Arizona</td>\n",
              "    </tr>\n",
              "    <tr>\n",
              "      <th>state</th>\n",
              "      <td>Alaska</td>\n",
              "      <td>Alaska</td>\n",
              "      <td>Alaska</td>\n",
              "      <td>Arizona</td>\n",
              "      <td>Arizona</td>\n",
              "    </tr>\n",
              "    <tr>\n",
              "      <th>summit_elev</th>\n",
              "      <td>3939</td>\n",
              "      <td>2600</td>\n",
              "      <td>2090</td>\n",
              "      <td>11500</td>\n",
              "      <td>11100</td>\n",
              "    </tr>\n",
              "    <tr>\n",
              "      <th>vertical_drop</th>\n",
              "      <td>2500</td>\n",
              "      <td>1540</td>\n",
              "      <td>294</td>\n",
              "      <td>2300</td>\n",
              "      <td>1800</td>\n",
              "    </tr>\n",
              "    <tr>\n",
              "      <th>base_elev</th>\n",
              "      <td>250</td>\n",
              "      <td>1200</td>\n",
              "      <td>1796</td>\n",
              "      <td>9200</td>\n",
              "      <td>9200</td>\n",
              "    </tr>\n",
              "    <tr>\n",
              "      <th>trams</th>\n",
              "      <td>1</td>\n",
              "      <td>0</td>\n",
              "      <td>0</td>\n",
              "      <td>0</td>\n",
              "      <td>0</td>\n",
              "    </tr>\n",
              "    <tr>\n",
              "      <th>fastSixes</th>\n",
              "      <td>0</td>\n",
              "      <td>0</td>\n",
              "      <td>0</td>\n",
              "      <td>1</td>\n",
              "      <td>0</td>\n",
              "    </tr>\n",
              "    <tr>\n",
              "      <th>fastQuads</th>\n",
              "      <td>2</td>\n",
              "      <td>0</td>\n",
              "      <td>0</td>\n",
              "      <td>0</td>\n",
              "      <td>1</td>\n",
              "    </tr>\n",
              "    <tr>\n",
              "      <th>quad</th>\n",
              "      <td>2</td>\n",
              "      <td>0</td>\n",
              "      <td>0</td>\n",
              "      <td>2</td>\n",
              "      <td>2</td>\n",
              "    </tr>\n",
              "    <tr>\n",
              "      <th>triple</th>\n",
              "      <td>0</td>\n",
              "      <td>0</td>\n",
              "      <td>1</td>\n",
              "      <td>2</td>\n",
              "      <td>3</td>\n",
              "    </tr>\n",
              "    <tr>\n",
              "      <th>double</th>\n",
              "      <td>0</td>\n",
              "      <td>4</td>\n",
              "      <td>0</td>\n",
              "      <td>1</td>\n",
              "      <td>1</td>\n",
              "    </tr>\n",
              "    <tr>\n",
              "      <th>surface</th>\n",
              "      <td>2</td>\n",
              "      <td>0</td>\n",
              "      <td>2</td>\n",
              "      <td>2</td>\n",
              "      <td>0</td>\n",
              "    </tr>\n",
              "    <tr>\n",
              "      <th>total_chairs</th>\n",
              "      <td>7</td>\n",
              "      <td>4</td>\n",
              "      <td>3</td>\n",
              "      <td>8</td>\n",
              "      <td>7</td>\n",
              "    </tr>\n",
              "    <tr>\n",
              "      <th>Runs</th>\n",
              "      <td>76</td>\n",
              "      <td>36</td>\n",
              "      <td>13</td>\n",
              "      <td>55</td>\n",
              "      <td>65</td>\n",
              "    </tr>\n",
              "    <tr>\n",
              "      <th>TerrainParks</th>\n",
              "      <td>2</td>\n",
              "      <td>1</td>\n",
              "      <td>1</td>\n",
              "      <td>4</td>\n",
              "      <td>2</td>\n",
              "    </tr>\n",
              "    <tr>\n",
              "      <th>LongestRun_mi</th>\n",
              "      <td>1</td>\n",
              "      <td>2</td>\n",
              "      <td>1</td>\n",
              "      <td>2</td>\n",
              "      <td>1.2</td>\n",
              "    </tr>\n",
              "    <tr>\n",
              "      <th>SkiableTerrain_ac</th>\n",
              "      <td>1610</td>\n",
              "      <td>640</td>\n",
              "      <td>30</td>\n",
              "      <td>777</td>\n",
              "      <td>800</td>\n",
              "    </tr>\n",
              "    <tr>\n",
              "      <th>Snow Making_ac</th>\n",
              "      <td>113</td>\n",
              "      <td>60</td>\n",
              "      <td>30</td>\n",
              "      <td>104</td>\n",
              "      <td>80</td>\n",
              "    </tr>\n",
              "    <tr>\n",
              "      <th>daysOpenLastYear</th>\n",
              "      <td>150</td>\n",
              "      <td>45</td>\n",
              "      <td>150</td>\n",
              "      <td>122</td>\n",
              "      <td>115</td>\n",
              "    </tr>\n",
              "    <tr>\n",
              "      <th>yearsOpen</th>\n",
              "      <td>60</td>\n",
              "      <td>44</td>\n",
              "      <td>36</td>\n",
              "      <td>81</td>\n",
              "      <td>49</td>\n",
              "    </tr>\n",
              "    <tr>\n",
              "      <th>averageSnowfall</th>\n",
              "      <td>669</td>\n",
              "      <td>350</td>\n",
              "      <td>69</td>\n",
              "      <td>260</td>\n",
              "      <td>250</td>\n",
              "    </tr>\n",
              "    <tr>\n",
              "      <th>AdultWeekend</th>\n",
              "      <td>85</td>\n",
              "      <td>53</td>\n",
              "      <td>34</td>\n",
              "      <td>89</td>\n",
              "      <td>78</td>\n",
              "    </tr>\n",
              "    <tr>\n",
              "      <th>projectedDaysOpen</th>\n",
              "      <td>150</td>\n",
              "      <td>90</td>\n",
              "      <td>152</td>\n",
              "      <td>122</td>\n",
              "      <td>104</td>\n",
              "    </tr>\n",
              "    <tr>\n",
              "      <th>NightSkiing_ac</th>\n",
              "      <td>550</td>\n",
              "      <td>NaN</td>\n",
              "      <td>30</td>\n",
              "      <td>NaN</td>\n",
              "      <td>80</td>\n",
              "    </tr>\n",
              "    <tr>\n",
              "      <th>resorts_per_state</th>\n",
              "      <td>3</td>\n",
              "      <td>3</td>\n",
              "      <td>3</td>\n",
              "      <td>2</td>\n",
              "      <td>2</td>\n",
              "    </tr>\n",
              "    <tr>\n",
              "      <th>resorts_per_100kcapita</th>\n",
              "      <td>0.410091</td>\n",
              "      <td>0.410091</td>\n",
              "      <td>0.410091</td>\n",
              "      <td>0.0274774</td>\n",
              "      <td>0.0274774</td>\n",
              "    </tr>\n",
              "    <tr>\n",
              "      <th>resorts_per_100ksq_mile</th>\n",
              "      <td>0.450867</td>\n",
              "      <td>0.450867</td>\n",
              "      <td>0.450867</td>\n",
              "      <td>1.75454</td>\n",
              "      <td>1.75454</td>\n",
              "    </tr>\n",
              "    <tr>\n",
              "      <th>resort_skiable_area_ac_state_ratio</th>\n",
              "      <td>0.70614</td>\n",
              "      <td>0.280702</td>\n",
              "      <td>0.0131579</td>\n",
              "      <td>0.492708</td>\n",
              "      <td>0.507292</td>\n",
              "    </tr>\n",
              "    <tr>\n",
              "      <th>resort_days_open_state_ratio</th>\n",
              "      <td>0.434783</td>\n",
              "      <td>0.130435</td>\n",
              "      <td>0.434783</td>\n",
              "      <td>0.514768</td>\n",
              "      <td>0.485232</td>\n",
              "    </tr>\n",
              "    <tr>\n",
              "      <th>resort_terrain_park_state_ratio</th>\n",
              "      <td>0.5</td>\n",
              "      <td>0.25</td>\n",
              "      <td>0.25</td>\n",
              "      <td>0.666667</td>\n",
              "      <td>0.333333</td>\n",
              "    </tr>\n",
              "    <tr>\n",
              "      <th>resort_night_skiing_state_ratio</th>\n",
              "      <td>0.948276</td>\n",
              "      <td>NaN</td>\n",
              "      <td>0.0517241</td>\n",
              "      <td>NaN</td>\n",
              "      <td>1</td>\n",
              "    </tr>\n",
              "    <tr>\n",
              "      <th>total_chairs_runs_ratio</th>\n",
              "      <td>0.0921053</td>\n",
              "      <td>0.111111</td>\n",
              "      <td>0.230769</td>\n",
              "      <td>0.145455</td>\n",
              "      <td>0.107692</td>\n",
              "    </tr>\n",
              "    <tr>\n",
              "      <th>total_chairs_skiable_ratio</th>\n",
              "      <td>0.00434783</td>\n",
              "      <td>0.00625</td>\n",
              "      <td>0.1</td>\n",
              "      <td>0.010296</td>\n",
              "      <td>0.00875</td>\n",
              "    </tr>\n",
              "    <tr>\n",
              "      <th>fastQuads_runs_ratio</th>\n",
              "      <td>0.0263158</td>\n",
              "      <td>0</td>\n",
              "      <td>0</td>\n",
              "      <td>0</td>\n",
              "      <td>0.0153846</td>\n",
              "    </tr>\n",
              "    <tr>\n",
              "      <th>fastQuads_skiable_ratio</th>\n",
              "      <td>0.00124224</td>\n",
              "      <td>0</td>\n",
              "      <td>0</td>\n",
              "      <td>0</td>\n",
              "      <td>0.00125</td>\n",
              "    </tr>\n",
              "  </tbody>\n",
              "</table>\n",
              "</div>"
            ],
            "text/plain": [
              "                                                 0  ...                    4\n",
              "Name                                Alyeska Resort  ...  Sunrise Park Resort\n",
              "Region                                      Alaska  ...              Arizona\n",
              "state                                       Alaska  ...              Arizona\n",
              "summit_elev                                   3939  ...                11100\n",
              "vertical_drop                                 2500  ...                 1800\n",
              "base_elev                                      250  ...                 9200\n",
              "trams                                            1  ...                    0\n",
              "fastSixes                                        0  ...                    0\n",
              "fastQuads                                        2  ...                    1\n",
              "quad                                             2  ...                    2\n",
              "triple                                           0  ...                    3\n",
              "double                                           0  ...                    1\n",
              "surface                                          2  ...                    0\n",
              "total_chairs                                     7  ...                    7\n",
              "Runs                                            76  ...                   65\n",
              "TerrainParks                                     2  ...                    2\n",
              "LongestRun_mi                                    1  ...                  1.2\n",
              "SkiableTerrain_ac                             1610  ...                  800\n",
              "Snow Making_ac                                 113  ...                   80\n",
              "daysOpenLastYear                               150  ...                  115\n",
              "yearsOpen                                       60  ...                   49\n",
              "averageSnowfall                                669  ...                  250\n",
              "AdultWeekend                                    85  ...                   78\n",
              "projectedDaysOpen                              150  ...                  104\n",
              "NightSkiing_ac                                 550  ...                   80\n",
              "resorts_per_state                                3  ...                    2\n",
              "resorts_per_100kcapita                    0.410091  ...            0.0274774\n",
              "resorts_per_100ksq_mile                   0.450867  ...              1.75454\n",
              "resort_skiable_area_ac_state_ratio         0.70614  ...             0.507292\n",
              "resort_days_open_state_ratio              0.434783  ...             0.485232\n",
              "resort_terrain_park_state_ratio                0.5  ...             0.333333\n",
              "resort_night_skiing_state_ratio           0.948276  ...                    1\n",
              "total_chairs_runs_ratio                  0.0921053  ...             0.107692\n",
              "total_chairs_skiable_ratio              0.00434783  ...              0.00875\n",
              "fastQuads_runs_ratio                     0.0263158  ...            0.0153846\n",
              "fastQuads_skiable_ratio                 0.00124224  ...              0.00125\n",
              "\n",
              "[36 rows x 5 columns]"
            ]
          },
          "metadata": {
            "tags": []
          },
          "execution_count": 63
        }
      ]
    },
    {
      "cell_type": "code",
      "metadata": {
        "id": "WnIJoSMis5kT"
      },
      "source": [
        "# Save the data \n",
        "ski_data.to_csv('ski_data_step3_features.csv')\n",
        "\n",
        "#to download files\n",
        "#files.download('ski_data_step3_features.csv')\n",
        "\n",
        "\n"
      ],
      "execution_count": null,
      "outputs": []
    }
  ]
}